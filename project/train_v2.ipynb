{
 "cells": [
  {
   "cell_type": "code",
   "execution_count": null,
   "metadata": {},
   "outputs": [],
   "source": [
    "IS_KAGGLE_ENV = False"
   ]
  },
  {
   "cell_type": "code",
   "execution_count": 1,
   "metadata": {},
   "outputs": [],
   "source": [
    "import numpy as np\n",
    "import pandas as pd\n",
    "import os\n",
    "from pathlib import Path\n",
    "import time\n",
    "import copy\n",
    "import matplotlib.pyplot as plt\n",
    "from PIL import Image\n",
    "import zipfile\n",
    "import shutil \n",
    "from tqdm import tqdm"
   ]
  },
  {
   "cell_type": "code",
   "execution_count": 2,
   "metadata": {},
   "outputs": [],
   "source": [
    "import torch\n",
    "from torch import nn\n",
    "import torchvision\n",
    "from torchvision import datasets\n",
    "from torchvision.io import read_image\n",
    "from torchvision.transforms import v2\n",
    "from torchvision.models.feature_extraction import create_feature_extractor\n",
    "from torchvision import models as torchvision_models\n",
    "from torchvision.models import resnet18, ResNet18_Weights\n",
    "from torchvision.models import resnet50, ResNet50_Weights\n",
    "from torchvision.models import resnet101, ResNet101_Weights\n",
    "from torchvision.models import efficientnet_v2_s, EfficientNet_V2_S_Weights\n",
    "from torchvision.models import convnext_base, ConvNeXt_Base_Weights\n",
    "from torchvision.models import vit_b_16, ViT_B_16_Weights"
   ]
  },
  {
   "cell_type": "code",
   "execution_count": 4,
   "metadata": {},
   "outputs": [],
   "source": [
    "def fix_random_seeds(seed=12345):\n",
    "    torch.manual_seed(seed)\n",
    "    torch.cuda.manual_seed_all(seed)\n",
    "    np.random.seed(seed)\n",
    "    \n",
    "fix_random_seeds()"
   ]
  },
  {
   "cell_type": "code",
   "execution_count": 5,
   "metadata": {},
   "outputs": [
    {
     "name": "stdout",
     "output_type": "stream",
     "text": [
      "Device count = 4\n",
      "Device: cuda:0\n"
     ]
    }
   ],
   "source": [
    "device = torch.device(\"cuda:0\" if torch.cuda.is_available() else \"cpu\")\n",
    "print(f'Device count = {torch.cuda.device_count()}') \n",
    "print(f'Device: {device}')"
   ]
  },
  {
   "cell_type": "code",
   "execution_count": null,
   "metadata": {},
   "outputs": [],
   "source": [
    "def create_dir_structure(is_kaggle=IS_KAGGLE_ENV):\n",
    "    if is_kaggle:\n",
    "        if not os.path.exists(DATA_ROOT):\n",
    "            # Input data files are available in the \"/kaggle/input/\" directory.\n",
    "            with zipfile.ZipFile('/kaggle/input/platesv2/plates.zip', 'r') as zip_obj:\n",
    "                # Extract all the contents of zip file in current directory\n",
    "                zip_obj.extractall()\n",
    "            \n",
    "            indexes = np.random.choice(20, size=4, replace=False)\n",
    "            file_names = [f'{idx:04}.jpg' for idx in indexes]\n",
    "            print('Moving files from train to val dir:', file_names)\n",
    "            \n",
    "            val_path = os.path.join(DATA_ROOT, 'val')\n",
    "            os.makedirs(val_path)\n",
    "            train_path = os.path.join(DATA_ROOT, 'train')\n",
    "            class_names = ['cleaned', 'dirty']\n",
    "            for class_name in class_names:\n",
    "                dest_val_dir  = os.path.join(val_path, class_name)\n",
    "                src_train_dir = os.path.join(train_path, class_name)\n",
    "                os.makedirs(dest_val_dir)\n",
    "                for file_name in file_names:\n",
    "                    shutil.move(os.path.join(src_train_dir, file_name), dest_val_dir)\n",
    "    \n",
    "    os.makedirs(OUTPUT_DIR, exist_ok=True)\n",
    "    \n",
    "create_dir_structure()"
   ]
  },
  {
   "cell_type": "code",
   "execution_count": null,
   "metadata": {},
   "outputs": [],
   "source": []
  }
 ],
 "metadata": {
  "kernelspec": {
   "display_name": "kaggle",
   "language": "python",
   "name": "python3"
  },
  "language_info": {
   "codemirror_mode": {
    "name": "ipython",
    "version": 3
   },
   "file_extension": ".py",
   "mimetype": "text/x-python",
   "name": "python",
   "nbconvert_exporter": "python",
   "pygments_lexer": "ipython3",
   "version": "3.8.18"
  }
 },
 "nbformat": 4,
 "nbformat_minor": 2
}
