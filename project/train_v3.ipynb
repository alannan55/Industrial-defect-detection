{
 "cells": [
  {
   "cell_type": "code",
   "execution_count": 1,
   "metadata": {},
   "outputs": [
    {
     "name": "stderr",
     "output_type": "stream",
     "text": [
      "2024-01-13 22:06:35.311899: I tensorflow/core/platform/cpu_feature_guard.cc:182] This TensorFlow binary is optimized to use available CPU instructions in performance-critical operations.\n",
      "To enable the following instructions: AVX2 FMA, in other operations, rebuild TensorFlow with the appropriate compiler flags.\n"
     ]
    }
   ],
   "source": [
    "import numpy as np\n",
    "import os\n",
    "import pandas as pd\n",
    "import random\n",
    "from tqdm import tqdm\n",
    "from transformers import ConvNextModel, ConvNextImageProcessor\n",
    "from config import CFG\n",
    "from datasets import load_dataset\n",
    "from PIL import Image\n",
    "\n",
    "from lightgbm import LGBMClassifier\n",
    "from catboost import CatBoostClassifier\n",
    "from xgboost import XGBClassifier\n",
    "from sklearn.linear_model import SGDClassifier\n",
    "from sklearn.naive_bayes import MultinomialNB, GaussianNB\n",
    "from sklearn.ensemble import VotingClassifier\n",
    "import time"
   ]
  },
  {
   "cell_type": "code",
   "execution_count": 2,
   "metadata": {},
   "outputs": [],
   "source": [
    "label_data = pd.read_csv(os.path.join(CFG.train_data_dir, '文件标签汇总数据.csv'))\n",
    "train_csv_folder = os.path.join(CFG.train_data_dir, 'csv文件')\n",
    "test_A_csv_folder = os.path.join(CFG.test_A_data_dir, 'csv文件')\n",
    "train_image_folder = os.path.join(CFG.project_name, 'project/image/训练集数据')\n",
    "test_A_image_folder = os.path.join(CFG.project_name, 'project/image/A榜测试集数据')\n",
    "label2id = {\"A\": 0, \"B\": 1, \"C\": 2, \"D\": 3, \"E\": 4}\n",
    "id2label = {0: \"A\", 1: \"B\", 2: \"C\", 3: \"D\", 4: \"E\"}"
   ]
  },
  {
   "cell_type": "code",
   "execution_count": 3,
   "metadata": {},
   "outputs": [],
   "source": [
    "processor = ConvNextImageProcessor.from_pretrained(CFG.convNext_model)\n",
    "model = ConvNextModel.from_pretrained(CFG.convNext_model)"
   ]
  },
  {
   "cell_type": "code",
   "execution_count": 4,
   "metadata": {},
   "outputs": [
    {
     "name": "stderr",
     "output_type": "stream",
     "text": [
      " 30%|███       | 35/115 [00:06<00:14,  5.55it/s]"
     ]
    },
    {
     "name": "stderr",
     "output_type": "stream",
     "text": [
      "100%|██████████| 115/115 [00:21<00:00,  5.33it/s]\n"
     ]
    }
   ],
   "source": [
    "X_train = []\n",
    "y_train = []\n",
    "for img in tqdm(os.listdir(train_image_folder)):\n",
    "    img_path = os.path.join(train_image_folder, img)\n",
    "    label = label_data[label_data['fileName'].str.contains(img[2:-4])]['defectType'].values[0]\n",
    "    image = Image.open(img_path)\n",
    "    # image 是单通道，需要转换成三通道\n",
    "    image = np.array(image)\n",
    "    image = np.stack([image, image, image], axis=-1)\n",
    "    inputs = processor(image, return_tensors=\"pt\")\n",
    "    outputs = model(**inputs)\n",
    "    X_train.append(outputs.pooler_output.squeeze().detach().numpy())\n",
    "    y_train.append(label)\n",
    "y_train = [label2id[i] for i in y_train]"
   ]
  },
  {
   "cell_type": "code",
   "execution_count": 5,
   "metadata": {},
   "outputs": [
    {
     "name": "stderr",
     "output_type": "stream",
     "text": [
      "100%|██████████| 115/115 [00:21<00:00,  5.37it/s]\n"
     ]
    }
   ],
   "source": [
    "X_test = []\n",
    "name_test = []\n",
    "test_name_list = os.listdir(test_A_csv_folder)\n",
    "for img in tqdm(os.listdir(test_A_image_folder)):\n",
    "    img_path = os.path.join(test_A_image_folder, img)\n",
    "    image = Image.open(img_path)\n",
    "    # image 是单通道，需要转换成三通道\n",
    "    image = np.array(image)\n",
    "    image = np.stack([image, image, image], axis=-1)\n",
    "    inputs = processor(image, return_tensors=\"pt\")\n",
    "    outputs = model(**inputs)\n",
    "    X_test.append(outputs.pooler_output.squeeze().detach().numpy())\n",
    "    for name in test_name_list:\n",
    "        if img[:-4] in name:\n",
    "            name_test.append(name)\n",
    "            break\n",
    "\n",
    "    "
   ]
  },
  {
   "cell_type": "code",
   "execution_count": 6,
   "metadata": {},
   "outputs": [],
   "source": [
    "# def weighted_f1(y_true, y_pred):\n",
    "#     y_pred = np.argmax(y_pred.reshape(5, -1), axis=0)\n",
    "#     f1 = f1_score(y_true, y_pred, average=None)\n",
    "#     weights = np.array([0.1, 0.3, 0.2, 0.1, 0.3])\n",
    "#     weighted_f1 = np.sum(f1 * weights)\n",
    "#     return 'weighted_f1', weighted_f1, True"
   ]
  },
  {
   "cell_type": "code",
   "execution_count": 7,
   "metadata": {},
   "outputs": [
    {
     "name": "stdout",
     "output_type": "stream",
     "text": [
      "Training...\n"
     ]
    },
    {
     "name": "stderr",
     "output_type": "stream",
     "text": [
      "/ai/anaconda3/envs/kaggle/lib/python3.8/site-packages/lightgbm/engine.py:172: UserWarning: Found `n_iter` in params. Will use it instead of argument\n",
      "  _log_warning(f\"Found `{alias}` in params. Will use it instead of argument\")\n"
     ]
    },
    {
     "name": "stdout",
     "output_type": "stream",
     "text": [
      "Training time:  179.50280809402466\n",
      "Training finished\n"
     ]
    }
   ],
   "source": [
    "clf = GaussianNB()\n",
    "sgd_model = SGDClassifier(max_iter=8000, tol=1e-4, loss=\"modified_huber\") \n",
    "p6={'n_iter': 5000,\n",
    "    'verbose': -1,\n",
    "    'objective': 'multiclass',\n",
    "    'num_class': 5,\n",
    "    'learning_rate': 0.01, \n",
    "    'colsample_bytree': 0.78,\n",
    "    'colsample_bynode': 0.8, \n",
    "    'lambda_l1': 5, \n",
    "    'lambda_l2': 3, \n",
    "    'min_data_in_leaf': 115, \n",
    "    'max_depth': 30, \n",
    "    'max_bin': 1000}\n",
    "lgb=LGBMClassifier(**p6)\n",
    "cat=CatBoostClassifier(iterations=3000,\n",
    "                       verbose=0,\n",
    "                       l2_leaf_reg=6.7,\n",
    "                       learning_rate=0.005,\n",
    "                       subsample = 0.4,\n",
    "                       bootstrap_type='Bernoulli',\n",
    "                       allow_const_label=True,\n",
    "                       loss_function = 'MultiClass')\n",
    "\n",
    "weights = [0.25,0.25,0.25,0.25]\n",
    "print('Training...')\n",
    "now = time.time()\n",
    "ensemble = VotingClassifier(estimators=[('mnb',clf),\n",
    "                                        ('sgd', sgd_model),\n",
    "                                        ('lgb',lgb), \n",
    "                                        ('cat', cat)\n",
    "                                        ],\n",
    "                            weights=weights, \n",
    "                            voting='soft',\n",
    "                            n_jobs=-1)\n",
    "ensemble.fit(X_train, y_train)\n",
    "print('Training time: ', time.time() - now)\n",
    "print('Training finished')"
   ]
  },
  {
   "cell_type": "code",
   "execution_count": 8,
   "metadata": {},
   "outputs": [
    {
     "name": "stdout",
     "output_type": "stream",
     "text": [
      "Predicting...\n",
      "Predicting time:  0.2310347557067871\n",
      "Predicting finished\n"
     ]
    }
   ],
   "source": [
    "print('Predicting...')\n",
    "now = time.time()\n",
    "y_pred = ensemble.predict(X_test)\n",
    "print('Predicting time: ', time.time() - now)\n",
    "print('Predicting finished')"
   ]
  },
  {
   "cell_type": "code",
   "execution_count": 9,
   "metadata": {},
   "outputs": [],
   "source": [
    "sub = pd.DataFrame(columns=['defectType', 'fileName'])\n",
    "sub['fileName'] = name_test\n",
    "sub['defectType'] = [id2label[i] for i in y_pred]\n",
    "sub.to_csv('submission.csv', index=False)"
   ]
  },
  {
   "cell_type": "code",
   "execution_count": null,
   "metadata": {},
   "outputs": [],
   "source": []
  }
 ],
 "metadata": {
  "kernelspec": {
   "display_name": "kaggle",
   "language": "python",
   "name": "python3"
  },
  "language_info": {
   "codemirror_mode": {
    "name": "ipython",
    "version": 3
   },
   "file_extension": ".py",
   "mimetype": "text/x-python",
   "name": "python",
   "nbconvert_exporter": "python",
   "pygments_lexer": "ipython3",
   "version": "3.8.18"
  }
 },
 "nbformat": 4,
 "nbformat_minor": 2
}
