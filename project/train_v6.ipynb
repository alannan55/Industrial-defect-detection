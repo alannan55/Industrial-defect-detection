{
 "cells": [
  {
   "cell_type": "markdown",
   "metadata": {},
   "source": [
    "### Import Libraries"
   ]
  },
  {
   "cell_type": "code",
   "execution_count": 1,
   "metadata": {},
   "outputs": [
    {
     "name": "stderr",
     "output_type": "stream",
     "text": [
      "/ai/anaconda3/envs/bst/lib/python3.8/site-packages/tqdm/auto.py:21: TqdmWarning: IProgress not found. Please update jupyter and ipywidgets. See https://ipywidgets.readthedocs.io/en/stable/user_install.html\n",
      "  from .autonotebook import tqdm as notebook_tqdm\n",
      "2024-01-18 00:01:47.884963: I tensorflow/core/platform/cpu_feature_guard.cc:182] This TensorFlow binary is optimized to use available CPU instructions in performance-critical operations.\n",
      "To enable the following instructions: AVX2 FMA, in other operations, rebuild TensorFlow with the appropriate compiler flags.\n"
     ]
    }
   ],
   "source": [
    "import numpy as np\n",
    "import os\n",
    "import pandas as pd\n",
    "import random\n",
    "from tqdm import tqdm\n",
    "\n",
    "import torch\n",
    "import torch.nn as nn\n",
    "import torch.optim as optim\n",
    "from torchvision import datasets, transforms\n",
    "from torch.utils.data import DataLoader, Subset, Dataset\n",
    "from transformers import ConvNextModel, ConvNextImageProcessor, ConvNextForImageClassification\n",
    "from config import CFG\n",
    "from datasets import load_dataset\n",
    "from PIL import Image\n",
    "\n",
    "from sklearn.model_selection import train_test_split\n",
    "from sklearn.model_selection import StratifiedKFold\n",
    "import time\n",
    "\n",
    "from sklearn.metrics import f1_score\n",
    "import warnings\n",
    "warnings.filterwarnings('ignore')\n",
    "\n",
    "# os.environ['CUDA_VISIBLE_DEVICES'] = '1'"
   ]
  },
  {
   "cell_type": "markdown",
   "metadata": {},
   "source": [
    "### Load data"
   ]
  },
  {
   "cell_type": "code",
   "execution_count": 2,
   "metadata": {},
   "outputs": [],
   "source": [
    "label_data = pd.read_csv(os.path.join(CFG.train_data_dir, '文件标签汇总数据.csv'))\n",
    "train_csv_folder = os.path.join(CFG.train_data_dir, 'csv文件')\n",
    "test_A_csv_folder = os.path.join(CFG.test_A_data_dir, 'csv文件')\n",
    "train_image_folder = os.path.join(CFG.project_name, 'project/image/训练集数据')\n",
    "test_A_image_folder = os.path.join(CFG.project_name, 'project/image/A榜测试集数据')\n",
    "label2id = {\"A\": 0, \"B\": 1, \"C\": 2, \"D\": 3, \"E\": 4}\n",
    "id2label = {0: \"A\", 1: \"B\", 2: \"C\", 3: \"D\", 4: \"E\"}"
   ]
  },
  {
   "cell_type": "code",
   "execution_count": 3,
   "metadata": {},
   "outputs": [],
   "source": [
    "# 定义训练集的数据增强转换流程\n",
    "train_transforms = transforms.Compose([\n",
    "    transforms.Grayscale(num_output_channels=3),\n",
    "    # resize为448*448\n",
    "    transforms.Resize(448),\n",
    "    # 随机裁剪为448*448\n",
    "    transforms.RandomResizedCrop(448), \n",
    "    # 随机水平翻转\n",
    "    transforms.RandomHorizontalFlip(),\n",
    "    # 随机垂直翻转\n",
    "    transforms.RandomVerticalFlip(),\n",
    "    # 随机旋转\n",
    "    transforms.RandomRotation(15),\n",
    "    # 随机亮度\n",
    "    transforms.ColorJitter(brightness=0.5),\n",
    "    # 随机对比度\n",
    "    transforms.ColorJitter(contrast=0.5),\n",
    "    # 中心裁剪为448*448\n",
    "    transforms.CenterCrop(448),\n",
    "    # 随机 affine 变换\n",
    "    transforms.RandomAffine(degrees=15, translate=(0.1, 0.1), scale=(0.9, 1.1)),\n",
    "    transforms.ToTensor(),\n",
    "    transforms.Normalize(mean=[0.5, 0.5, 0.5], std=[0.5, 0.5, 0.5]),\n",
    "])\n",
    "\n",
    "# 定义验证集的数据预处理流程（无数据增强）\n",
    "val_transforms = transforms.Compose([\n",
    "    transforms.Grayscale(num_output_channels=3),\n",
    "    transforms.Resize(448),\n",
    "    transforms.ToTensor(),\n",
    "    transforms.Normalize(mean=[0.5, 0.5, 0.5], std=[0.5, 0.5, 0.5]),\n",
    "])\n",
    "\n",
    "test_trainsforms = transforms.Compose([\n",
    "    transforms.Grayscale(num_output_channels=3),\n",
    "    transforms.Resize(448),\n",
    "    transforms.ToTensor(),\n",
    "    transforms.Normalize(mean=[0.5, 0.5, 0.5], std=[0.5, 0.5, 0.5]),\n",
    "\n",
    "])"
   ]
  },
  {
   "cell_type": "code",
   "execution_count": 4,
   "metadata": {},
   "outputs": [],
   "source": [
    "# 加载完整数据集（未应用转换）\n",
    "full_dataset = datasets.ImageFolder(root=train_image_folder)\n",
    "# 分层抽样以分割数据集\n",
    "targets = [sample[1] for sample in full_dataset.samples]\n",
    "train_idx, val_idx = train_test_split(\n",
    "    list(range(len(targets))),\n",
    "    test_size=0.2,\n",
    "    random_state=42,\n",
    "    stratify=targets\n",
    ")"
   ]
  },
  {
   "cell_type": "code",
   "execution_count": 5,
   "metadata": {},
   "outputs": [],
   "source": [
    "# 应用数据转换并创建训练集和验证集的子集\n",
    "# train_dataset = full_dataset\n",
    "# train_dataset.transform = train_transforms  # 应用训练集转换\n",
    "train_dataset = Subset(full_dataset, train_idx)\n",
    "train_dataset.dataset.transform = train_transforms  # 应用训练集转换\n",
    "\n",
    "\n",
    "val_dataset = Subset(full_dataset, val_idx)\n",
    "val_dataset.dataset.transform = val_transforms     # 应用验证集转换"
   ]
  },
  {
   "cell_type": "code",
   "execution_count": 6,
   "metadata": {},
   "outputs": [],
   "source": [
    "# 创建数据加载器\n",
    "train_loader = DataLoader(train_dataset, batch_size=8, shuffle=True)\n",
    "val_loader = DataLoader(val_dataset, batch_size=8, shuffle=False)"
   ]
  },
  {
   "cell_type": "code",
   "execution_count": 7,
   "metadata": {},
   "outputs": [],
   "source": [
    "dataset_sizes = {'train': len(train_dataset), 'val': len(val_dataset)}"
   ]
  },
  {
   "cell_type": "code",
   "execution_count": 8,
   "metadata": {},
   "outputs": [
    {
     "data": {
      "text/plain": [
       "{'train': 115, 'val': 23}"
      ]
     },
     "execution_count": 8,
     "metadata": {},
     "output_type": "execute_result"
    }
   ],
   "source": [
    "dataset_sizes"
   ]
  },
  {
   "cell_type": "markdown",
   "metadata": {},
   "source": [
    "### 初始化模型，定义分类头"
   ]
  },
  {
   "cell_type": "code",
   "execution_count": 9,
   "metadata": {},
   "outputs": [
    {
     "name": "stderr",
     "output_type": "stream",
     "text": [
      "Some weights of ConvNextForImageClassification were not initialized from the model checkpoint at /ai/users/bst/competition/model/convnext-large-224 and are newly initialized because the shapes did not match:\n",
      "- classifier.weight: found shape torch.Size([1000, 1536]) in the checkpoint and torch.Size([5, 1536]) in the model instantiated\n",
      "- classifier.bias: found shape torch.Size([1000]) in the checkpoint and torch.Size([5]) in the model instantiated\n",
      "You should probably TRAIN this model on a down-stream task to be able to use it for predictions and inference.\n"
     ]
    },
    {
     "data": {
      "text/plain": [
       "ConvNextForImageClassification(\n",
       "  (convnext): ConvNextModel(\n",
       "    (embeddings): ConvNextEmbeddings(\n",
       "      (patch_embeddings): Conv2d(3, 192, kernel_size=(4, 4), stride=(4, 4))\n",
       "      (layernorm): ConvNextLayerNorm()\n",
       "    )\n",
       "    (encoder): ConvNextEncoder(\n",
       "      (stages): ModuleList(\n",
       "        (0): ConvNextStage(\n",
       "          (downsampling_layer): Identity()\n",
       "          (layers): Sequential(\n",
       "            (0): ConvNextLayer(\n",
       "              (dwconv): Conv2d(192, 192, kernel_size=(7, 7), stride=(1, 1), padding=(3, 3), groups=192)\n",
       "              (layernorm): ConvNextLayerNorm()\n",
       "              (pwconv1): Linear(in_features=192, out_features=768, bias=True)\n",
       "              (act): GELUActivation()\n",
       "              (pwconv2): Linear(in_features=768, out_features=192, bias=True)\n",
       "              (drop_path): Identity()\n",
       "            )\n",
       "            (1): ConvNextLayer(\n",
       "              (dwconv): Conv2d(192, 192, kernel_size=(7, 7), stride=(1, 1), padding=(3, 3), groups=192)\n",
       "              (layernorm): ConvNextLayerNorm()\n",
       "              (pwconv1): Linear(in_features=192, out_features=768, bias=True)\n",
       "              (act): GELUActivation()\n",
       "              (pwconv2): Linear(in_features=768, out_features=192, bias=True)\n",
       "              (drop_path): Identity()\n",
       "            )\n",
       "            (2): ConvNextLayer(\n",
       "              (dwconv): Conv2d(192, 192, kernel_size=(7, 7), stride=(1, 1), padding=(3, 3), groups=192)\n",
       "              (layernorm): ConvNextLayerNorm()\n",
       "              (pwconv1): Linear(in_features=192, out_features=768, bias=True)\n",
       "              (act): GELUActivation()\n",
       "              (pwconv2): Linear(in_features=768, out_features=192, bias=True)\n",
       "              (drop_path): Identity()\n",
       "            )\n",
       "          )\n",
       "        )\n",
       "        (1): ConvNextStage(\n",
       "          (downsampling_layer): Sequential(\n",
       "            (0): ConvNextLayerNorm()\n",
       "            (1): Conv2d(192, 384, kernel_size=(2, 2), stride=(2, 2))\n",
       "          )\n",
       "          (layers): Sequential(\n",
       "            (0): ConvNextLayer(\n",
       "              (dwconv): Conv2d(384, 384, kernel_size=(7, 7), stride=(1, 1), padding=(3, 3), groups=384)\n",
       "              (layernorm): ConvNextLayerNorm()\n",
       "              (pwconv1): Linear(in_features=384, out_features=1536, bias=True)\n",
       "              (act): GELUActivation()\n",
       "              (pwconv2): Linear(in_features=1536, out_features=384, bias=True)\n",
       "              (drop_path): Identity()\n",
       "            )\n",
       "            (1): ConvNextLayer(\n",
       "              (dwconv): Conv2d(384, 384, kernel_size=(7, 7), stride=(1, 1), padding=(3, 3), groups=384)\n",
       "              (layernorm): ConvNextLayerNorm()\n",
       "              (pwconv1): Linear(in_features=384, out_features=1536, bias=True)\n",
       "              (act): GELUActivation()\n",
       "              (pwconv2): Linear(in_features=1536, out_features=384, bias=True)\n",
       "              (drop_path): Identity()\n",
       "            )\n",
       "            (2): ConvNextLayer(\n",
       "              (dwconv): Conv2d(384, 384, kernel_size=(7, 7), stride=(1, 1), padding=(3, 3), groups=384)\n",
       "              (layernorm): ConvNextLayerNorm()\n",
       "              (pwconv1): Linear(in_features=384, out_features=1536, bias=True)\n",
       "              (act): GELUActivation()\n",
       "              (pwconv2): Linear(in_features=1536, out_features=384, bias=True)\n",
       "              (drop_path): Identity()\n",
       "            )\n",
       "          )\n",
       "        )\n",
       "        (2): ConvNextStage(\n",
       "          (downsampling_layer): Sequential(\n",
       "            (0): ConvNextLayerNorm()\n",
       "            (1): Conv2d(384, 768, kernel_size=(2, 2), stride=(2, 2))\n",
       "          )\n",
       "          (layers): Sequential(\n",
       "            (0): ConvNextLayer(\n",
       "              (dwconv): Conv2d(768, 768, kernel_size=(7, 7), stride=(1, 1), padding=(3, 3), groups=768)\n",
       "              (layernorm): ConvNextLayerNorm()\n",
       "              (pwconv1): Linear(in_features=768, out_features=3072, bias=True)\n",
       "              (act): GELUActivation()\n",
       "              (pwconv2): Linear(in_features=3072, out_features=768, bias=True)\n",
       "              (drop_path): Identity()\n",
       "            )\n",
       "            (1): ConvNextLayer(\n",
       "              (dwconv): Conv2d(768, 768, kernel_size=(7, 7), stride=(1, 1), padding=(3, 3), groups=768)\n",
       "              (layernorm): ConvNextLayerNorm()\n",
       "              (pwconv1): Linear(in_features=768, out_features=3072, bias=True)\n",
       "              (act): GELUActivation()\n",
       "              (pwconv2): Linear(in_features=3072, out_features=768, bias=True)\n",
       "              (drop_path): Identity()\n",
       "            )\n",
       "            (2): ConvNextLayer(\n",
       "              (dwconv): Conv2d(768, 768, kernel_size=(7, 7), stride=(1, 1), padding=(3, 3), groups=768)\n",
       "              (layernorm): ConvNextLayerNorm()\n",
       "              (pwconv1): Linear(in_features=768, out_features=3072, bias=True)\n",
       "              (act): GELUActivation()\n",
       "              (pwconv2): Linear(in_features=3072, out_features=768, bias=True)\n",
       "              (drop_path): Identity()\n",
       "            )\n",
       "            (3): ConvNextLayer(\n",
       "              (dwconv): Conv2d(768, 768, kernel_size=(7, 7), stride=(1, 1), padding=(3, 3), groups=768)\n",
       "              (layernorm): ConvNextLayerNorm()\n",
       "              (pwconv1): Linear(in_features=768, out_features=3072, bias=True)\n",
       "              (act): GELUActivation()\n",
       "              (pwconv2): Linear(in_features=3072, out_features=768, bias=True)\n",
       "              (drop_path): Identity()\n",
       "            )\n",
       "            (4): ConvNextLayer(\n",
       "              (dwconv): Conv2d(768, 768, kernel_size=(7, 7), stride=(1, 1), padding=(3, 3), groups=768)\n",
       "              (layernorm): ConvNextLayerNorm()\n",
       "              (pwconv1): Linear(in_features=768, out_features=3072, bias=True)\n",
       "              (act): GELUActivation()\n",
       "              (pwconv2): Linear(in_features=3072, out_features=768, bias=True)\n",
       "              (drop_path): Identity()\n",
       "            )\n",
       "            (5): ConvNextLayer(\n",
       "              (dwconv): Conv2d(768, 768, kernel_size=(7, 7), stride=(1, 1), padding=(3, 3), groups=768)\n",
       "              (layernorm): ConvNextLayerNorm()\n",
       "              (pwconv1): Linear(in_features=768, out_features=3072, bias=True)\n",
       "              (act): GELUActivation()\n",
       "              (pwconv2): Linear(in_features=3072, out_features=768, bias=True)\n",
       "              (drop_path): Identity()\n",
       "            )\n",
       "            (6): ConvNextLayer(\n",
       "              (dwconv): Conv2d(768, 768, kernel_size=(7, 7), stride=(1, 1), padding=(3, 3), groups=768)\n",
       "              (layernorm): ConvNextLayerNorm()\n",
       "              (pwconv1): Linear(in_features=768, out_features=3072, bias=True)\n",
       "              (act): GELUActivation()\n",
       "              (pwconv2): Linear(in_features=3072, out_features=768, bias=True)\n",
       "              (drop_path): Identity()\n",
       "            )\n",
       "            (7): ConvNextLayer(\n",
       "              (dwconv): Conv2d(768, 768, kernel_size=(7, 7), stride=(1, 1), padding=(3, 3), groups=768)\n",
       "              (layernorm): ConvNextLayerNorm()\n",
       "              (pwconv1): Linear(in_features=768, out_features=3072, bias=True)\n",
       "              (act): GELUActivation()\n",
       "              (pwconv2): Linear(in_features=3072, out_features=768, bias=True)\n",
       "              (drop_path): Identity()\n",
       "            )\n",
       "            (8): ConvNextLayer(\n",
       "              (dwconv): Conv2d(768, 768, kernel_size=(7, 7), stride=(1, 1), padding=(3, 3), groups=768)\n",
       "              (layernorm): ConvNextLayerNorm()\n",
       "              (pwconv1): Linear(in_features=768, out_features=3072, bias=True)\n",
       "              (act): GELUActivation()\n",
       "              (pwconv2): Linear(in_features=3072, out_features=768, bias=True)\n",
       "              (drop_path): Identity()\n",
       "            )\n",
       "            (9): ConvNextLayer(\n",
       "              (dwconv): Conv2d(768, 768, kernel_size=(7, 7), stride=(1, 1), padding=(3, 3), groups=768)\n",
       "              (layernorm): ConvNextLayerNorm()\n",
       "              (pwconv1): Linear(in_features=768, out_features=3072, bias=True)\n",
       "              (act): GELUActivation()\n",
       "              (pwconv2): Linear(in_features=3072, out_features=768, bias=True)\n",
       "              (drop_path): Identity()\n",
       "            )\n",
       "            (10): ConvNextLayer(\n",
       "              (dwconv): Conv2d(768, 768, kernel_size=(7, 7), stride=(1, 1), padding=(3, 3), groups=768)\n",
       "              (layernorm): ConvNextLayerNorm()\n",
       "              (pwconv1): Linear(in_features=768, out_features=3072, bias=True)\n",
       "              (act): GELUActivation()\n",
       "              (pwconv2): Linear(in_features=3072, out_features=768, bias=True)\n",
       "              (drop_path): Identity()\n",
       "            )\n",
       "            (11): ConvNextLayer(\n",
       "              (dwconv): Conv2d(768, 768, kernel_size=(7, 7), stride=(1, 1), padding=(3, 3), groups=768)\n",
       "              (layernorm): ConvNextLayerNorm()\n",
       "              (pwconv1): Linear(in_features=768, out_features=3072, bias=True)\n",
       "              (act): GELUActivation()\n",
       "              (pwconv2): Linear(in_features=3072, out_features=768, bias=True)\n",
       "              (drop_path): Identity()\n",
       "            )\n",
       "            (12): ConvNextLayer(\n",
       "              (dwconv): Conv2d(768, 768, kernel_size=(7, 7), stride=(1, 1), padding=(3, 3), groups=768)\n",
       "              (layernorm): ConvNextLayerNorm()\n",
       "              (pwconv1): Linear(in_features=768, out_features=3072, bias=True)\n",
       "              (act): GELUActivation()\n",
       "              (pwconv2): Linear(in_features=3072, out_features=768, bias=True)\n",
       "              (drop_path): Identity()\n",
       "            )\n",
       "            (13): ConvNextLayer(\n",
       "              (dwconv): Conv2d(768, 768, kernel_size=(7, 7), stride=(1, 1), padding=(3, 3), groups=768)\n",
       "              (layernorm): ConvNextLayerNorm()\n",
       "              (pwconv1): Linear(in_features=768, out_features=3072, bias=True)\n",
       "              (act): GELUActivation()\n",
       "              (pwconv2): Linear(in_features=3072, out_features=768, bias=True)\n",
       "              (drop_path): Identity()\n",
       "            )\n",
       "            (14): ConvNextLayer(\n",
       "              (dwconv): Conv2d(768, 768, kernel_size=(7, 7), stride=(1, 1), padding=(3, 3), groups=768)\n",
       "              (layernorm): ConvNextLayerNorm()\n",
       "              (pwconv1): Linear(in_features=768, out_features=3072, bias=True)\n",
       "              (act): GELUActivation()\n",
       "              (pwconv2): Linear(in_features=3072, out_features=768, bias=True)\n",
       "              (drop_path): Identity()\n",
       "            )\n",
       "            (15): ConvNextLayer(\n",
       "              (dwconv): Conv2d(768, 768, kernel_size=(7, 7), stride=(1, 1), padding=(3, 3), groups=768)\n",
       "              (layernorm): ConvNextLayerNorm()\n",
       "              (pwconv1): Linear(in_features=768, out_features=3072, bias=True)\n",
       "              (act): GELUActivation()\n",
       "              (pwconv2): Linear(in_features=3072, out_features=768, bias=True)\n",
       "              (drop_path): Identity()\n",
       "            )\n",
       "            (16): ConvNextLayer(\n",
       "              (dwconv): Conv2d(768, 768, kernel_size=(7, 7), stride=(1, 1), padding=(3, 3), groups=768)\n",
       "              (layernorm): ConvNextLayerNorm()\n",
       "              (pwconv1): Linear(in_features=768, out_features=3072, bias=True)\n",
       "              (act): GELUActivation()\n",
       "              (pwconv2): Linear(in_features=3072, out_features=768, bias=True)\n",
       "              (drop_path): Identity()\n",
       "            )\n",
       "            (17): ConvNextLayer(\n",
       "              (dwconv): Conv2d(768, 768, kernel_size=(7, 7), stride=(1, 1), padding=(3, 3), groups=768)\n",
       "              (layernorm): ConvNextLayerNorm()\n",
       "              (pwconv1): Linear(in_features=768, out_features=3072, bias=True)\n",
       "              (act): GELUActivation()\n",
       "              (pwconv2): Linear(in_features=3072, out_features=768, bias=True)\n",
       "              (drop_path): Identity()\n",
       "            )\n",
       "            (18): ConvNextLayer(\n",
       "              (dwconv): Conv2d(768, 768, kernel_size=(7, 7), stride=(1, 1), padding=(3, 3), groups=768)\n",
       "              (layernorm): ConvNextLayerNorm()\n",
       "              (pwconv1): Linear(in_features=768, out_features=3072, bias=True)\n",
       "              (act): GELUActivation()\n",
       "              (pwconv2): Linear(in_features=3072, out_features=768, bias=True)\n",
       "              (drop_path): Identity()\n",
       "            )\n",
       "            (19): ConvNextLayer(\n",
       "              (dwconv): Conv2d(768, 768, kernel_size=(7, 7), stride=(1, 1), padding=(3, 3), groups=768)\n",
       "              (layernorm): ConvNextLayerNorm()\n",
       "              (pwconv1): Linear(in_features=768, out_features=3072, bias=True)\n",
       "              (act): GELUActivation()\n",
       "              (pwconv2): Linear(in_features=3072, out_features=768, bias=True)\n",
       "              (drop_path): Identity()\n",
       "            )\n",
       "            (20): ConvNextLayer(\n",
       "              (dwconv): Conv2d(768, 768, kernel_size=(7, 7), stride=(1, 1), padding=(3, 3), groups=768)\n",
       "              (layernorm): ConvNextLayerNorm()\n",
       "              (pwconv1): Linear(in_features=768, out_features=3072, bias=True)\n",
       "              (act): GELUActivation()\n",
       "              (pwconv2): Linear(in_features=3072, out_features=768, bias=True)\n",
       "              (drop_path): Identity()\n",
       "            )\n",
       "            (21): ConvNextLayer(\n",
       "              (dwconv): Conv2d(768, 768, kernel_size=(7, 7), stride=(1, 1), padding=(3, 3), groups=768)\n",
       "              (layernorm): ConvNextLayerNorm()\n",
       "              (pwconv1): Linear(in_features=768, out_features=3072, bias=True)\n",
       "              (act): GELUActivation()\n",
       "              (pwconv2): Linear(in_features=3072, out_features=768, bias=True)\n",
       "              (drop_path): Identity()\n",
       "            )\n",
       "            (22): ConvNextLayer(\n",
       "              (dwconv): Conv2d(768, 768, kernel_size=(7, 7), stride=(1, 1), padding=(3, 3), groups=768)\n",
       "              (layernorm): ConvNextLayerNorm()\n",
       "              (pwconv1): Linear(in_features=768, out_features=3072, bias=True)\n",
       "              (act): GELUActivation()\n",
       "              (pwconv2): Linear(in_features=3072, out_features=768, bias=True)\n",
       "              (drop_path): Identity()\n",
       "            )\n",
       "            (23): ConvNextLayer(\n",
       "              (dwconv): Conv2d(768, 768, kernel_size=(7, 7), stride=(1, 1), padding=(3, 3), groups=768)\n",
       "              (layernorm): ConvNextLayerNorm()\n",
       "              (pwconv1): Linear(in_features=768, out_features=3072, bias=True)\n",
       "              (act): GELUActivation()\n",
       "              (pwconv2): Linear(in_features=3072, out_features=768, bias=True)\n",
       "              (drop_path): Identity()\n",
       "            )\n",
       "            (24): ConvNextLayer(\n",
       "              (dwconv): Conv2d(768, 768, kernel_size=(7, 7), stride=(1, 1), padding=(3, 3), groups=768)\n",
       "              (layernorm): ConvNextLayerNorm()\n",
       "              (pwconv1): Linear(in_features=768, out_features=3072, bias=True)\n",
       "              (act): GELUActivation()\n",
       "              (pwconv2): Linear(in_features=3072, out_features=768, bias=True)\n",
       "              (drop_path): Identity()\n",
       "            )\n",
       "            (25): ConvNextLayer(\n",
       "              (dwconv): Conv2d(768, 768, kernel_size=(7, 7), stride=(1, 1), padding=(3, 3), groups=768)\n",
       "              (layernorm): ConvNextLayerNorm()\n",
       "              (pwconv1): Linear(in_features=768, out_features=3072, bias=True)\n",
       "              (act): GELUActivation()\n",
       "              (pwconv2): Linear(in_features=3072, out_features=768, bias=True)\n",
       "              (drop_path): Identity()\n",
       "            )\n",
       "            (26): ConvNextLayer(\n",
       "              (dwconv): Conv2d(768, 768, kernel_size=(7, 7), stride=(1, 1), padding=(3, 3), groups=768)\n",
       "              (layernorm): ConvNextLayerNorm()\n",
       "              (pwconv1): Linear(in_features=768, out_features=3072, bias=True)\n",
       "              (act): GELUActivation()\n",
       "              (pwconv2): Linear(in_features=3072, out_features=768, bias=True)\n",
       "              (drop_path): Identity()\n",
       "            )\n",
       "          )\n",
       "        )\n",
       "        (3): ConvNextStage(\n",
       "          (downsampling_layer): Sequential(\n",
       "            (0): ConvNextLayerNorm()\n",
       "            (1): Conv2d(768, 1536, kernel_size=(2, 2), stride=(2, 2))\n",
       "          )\n",
       "          (layers): Sequential(\n",
       "            (0): ConvNextLayer(\n",
       "              (dwconv): Conv2d(1536, 1536, kernel_size=(7, 7), stride=(1, 1), padding=(3, 3), groups=1536)\n",
       "              (layernorm): ConvNextLayerNorm()\n",
       "              (pwconv1): Linear(in_features=1536, out_features=6144, bias=True)\n",
       "              (act): GELUActivation()\n",
       "              (pwconv2): Linear(in_features=6144, out_features=1536, bias=True)\n",
       "              (drop_path): Identity()\n",
       "            )\n",
       "            (1): ConvNextLayer(\n",
       "              (dwconv): Conv2d(1536, 1536, kernel_size=(7, 7), stride=(1, 1), padding=(3, 3), groups=1536)\n",
       "              (layernorm): ConvNextLayerNorm()\n",
       "              (pwconv1): Linear(in_features=1536, out_features=6144, bias=True)\n",
       "              (act): GELUActivation()\n",
       "              (pwconv2): Linear(in_features=6144, out_features=1536, bias=True)\n",
       "              (drop_path): Identity()\n",
       "            )\n",
       "            (2): ConvNextLayer(\n",
       "              (dwconv): Conv2d(1536, 1536, kernel_size=(7, 7), stride=(1, 1), padding=(3, 3), groups=1536)\n",
       "              (layernorm): ConvNextLayerNorm()\n",
       "              (pwconv1): Linear(in_features=1536, out_features=6144, bias=True)\n",
       "              (act): GELUActivation()\n",
       "              (pwconv2): Linear(in_features=6144, out_features=1536, bias=True)\n",
       "              (drop_path): Identity()\n",
       "            )\n",
       "          )\n",
       "        )\n",
       "      )\n",
       "    )\n",
       "    (layernorm): LayerNorm((1536,), eps=1e-12, elementwise_affine=True)\n",
       "  )\n",
       "  (classifier): Linear(in_features=1536, out_features=5, bias=True)\n",
       ")"
      ]
     },
     "execution_count": 9,
     "metadata": {},
     "output_type": "execute_result"
    }
   ],
   "source": [
    "processor = ConvNextImageProcessor.from_pretrained(CFG.convNext_model)\n",
    "model = ConvNextForImageClassification.from_pretrained(CFG.convNext_model,\n",
    "                                                       num_labels=5,\n",
    "                                                       ignore_mismatched_sizes=True)\n",
    "model.to('cuda:1')"
   ]
  },
  {
   "cell_type": "code",
   "execution_count": 10,
   "metadata": {},
   "outputs": [],
   "source": [
    "criterion = nn.CrossEntropyLoss()\n",
    "optimizer = optim.Adam(model.parameters(), lr=0.0001,weight_decay=0.0001)"
   ]
  },
  {
   "cell_type": "code",
   "execution_count": 11,
   "metadata": {},
   "outputs": [
    {
     "name": "stdout",
     "output_type": "stream",
     "text": [
      "Epoch 1/50\n",
      "----------\n"
     ]
    },
    {
     "name": "stderr",
     "output_type": "stream",
     "text": [
      "  0%|          | 0/15 [00:00<?, ?it/s]"
     ]
    },
    {
     "name": "stderr",
     "output_type": "stream",
     "text": [
      "100%|██████████| 15/15 [00:22<00:00,  1.51s/it]\n"
     ]
    },
    {
     "name": "stdout",
     "output_type": "stream",
     "text": [
      "train Loss: 1.5474 F1-score: 0.1697\n",
      "predict   0   1\n",
      "label          \n",
      "0        31   2\n",
      "1        21  12\n",
      "2        20   5\n",
      "3        10   6\n",
      "4         5   3\n"
     ]
    },
    {
     "name": "stderr",
     "output_type": "stream",
     "text": [
      "100%|██████████| 3/3 [00:02<00:00,  1.41it/s]\n"
     ]
    },
    {
     "name": "stdout",
     "output_type": "stream",
     "text": [
      "val Loss: 1.3745 F1-score: 0.2402\n",
      "predict  0  1\n",
      "label        \n",
      "0        7  0\n",
      "1        1  5\n",
      "2        2  3\n",
      "3        0  3\n",
      "4        0  2\n",
      "Epoch 2/50\n",
      "----------\n"
     ]
    },
    {
     "name": "stderr",
     "output_type": "stream",
     "text": [
      "100%|██████████| 15/15 [00:22<00:00,  1.49s/it]\n"
     ]
    },
    {
     "name": "stdout",
     "output_type": "stream",
     "text": [
      "train Loss: 1.2858 F1-score: 0.2461\n",
      "predict   0   1\n",
      "label          \n",
      "0        32   1\n",
      "1         7  26\n",
      "2        18   7\n",
      "3         1  15\n",
      "4         2   6\n"
     ]
    },
    {
     "name": "stderr",
     "output_type": "stream",
     "text": [
      "100%|██████████| 3/3 [00:01<00:00,  2.03it/s]\n"
     ]
    },
    {
     "name": "stdout",
     "output_type": "stream",
     "text": [
      "val Loss: 1.0147 F1-score: 0.4476\n",
      "predict  0  1  2\n",
      "label           \n",
      "0        7  0  0\n",
      "1        1  5  0\n",
      "2        0  1  4\n",
      "3        0  3  0\n",
      "4        0  2  0\n",
      "Epoch 3/50\n",
      "----------\n"
     ]
    },
    {
     "name": "stderr",
     "output_type": "stream",
     "text": [
      "100%|██████████| 15/15 [00:22<00:00,  1.49s/it]\n"
     ]
    },
    {
     "name": "stdout",
     "output_type": "stream",
     "text": [
      "train Loss: 0.9485 F1-score: 0.4857\n",
      "predict   0   1   2  3\n",
      "label                 \n",
      "0        33   0   0  0\n",
      "1         3  30   0  0\n",
      "2         3   4  18  0\n",
      "3         1  13   0  2\n",
      "4         1   7   0  0\n"
     ]
    },
    {
     "name": "stderr",
     "output_type": "stream",
     "text": [
      "100%|██████████| 3/3 [00:01<00:00,  1.98it/s]\n"
     ]
    },
    {
     "name": "stdout",
     "output_type": "stream",
     "text": [
      "val Loss: 0.6758 F1-score: 0.5918\n",
      "predict  0  1  2  3\n",
      "label              \n",
      "0        7  0  0  0\n",
      "1        1  5  0  0\n",
      "2        0  0  5  0\n",
      "3        0  1  0  2\n",
      "4        0  0  1  1\n",
      "Epoch 4/50\n",
      "----------\n"
     ]
    },
    {
     "name": "stderr",
     "output_type": "stream",
     "text": [
      "100%|██████████| 15/15 [00:22<00:00,  1.50s/it]\n"
     ]
    },
    {
     "name": "stdout",
     "output_type": "stream",
     "text": [
      "train Loss: 0.6400 F1-score: 0.6093\n",
      "predict   0   1   2   3\n",
      "label                  \n",
      "0        33   0   0   0\n",
      "1         3  30   0   0\n",
      "2         0   0  25   0\n",
      "3         1   4   1  10\n",
      "4         1   5   1   1\n"
     ]
    },
    {
     "name": "stderr",
     "output_type": "stream",
     "text": [
      "100%|██████████| 3/3 [00:01<00:00,  1.92it/s]\n"
     ]
    },
    {
     "name": "stdout",
     "output_type": "stream",
     "text": [
      "val Loss: 0.4223 F1-score: 0.6675\n",
      "predict  0  1  2  3\n",
      "label              \n",
      "0        7  0  0  0\n",
      "1        0  6  0  0\n",
      "2        0  0  5  0\n",
      "3        0  0  0  3\n",
      "4        0  0  1  1\n",
      "Epoch 5/50\n",
      "----------\n"
     ]
    },
    {
     "name": "stderr",
     "output_type": "stream",
     "text": [
      "100%|██████████| 15/15 [00:22<00:00,  1.48s/it]\n"
     ]
    },
    {
     "name": "stdout",
     "output_type": "stream",
     "text": [
      "train Loss: 0.3873 F1-score: 0.8184\n",
      "predict   0   1   2   3  4\n",
      "label                     \n",
      "0        33   0   0   0  0\n",
      "1         0  33   0   0  0\n",
      "2         0   0  25   0  0\n",
      "3         1   3   0  12  0\n",
      "4         1   2   1   1  3\n"
     ]
    },
    {
     "name": "stderr",
     "output_type": "stream",
     "text": [
      "100%|██████████| 3/3 [00:01<00:00,  1.99it/s]\n"
     ]
    },
    {
     "name": "stdout",
     "output_type": "stream",
     "text": [
      "val Loss: 0.2462 F1-score: 0.6675\n",
      "predict  0  1  2  3\n",
      "label              \n",
      "0        7  0  0  0\n",
      "1        0  6  0  0\n",
      "2        0  0  5  0\n",
      "3        0  0  0  3\n",
      "4        0  0  1  1\n",
      "Epoch 6/50\n",
      "----------\n"
     ]
    },
    {
     "name": "stderr",
     "output_type": "stream",
     "text": [
      "100%|██████████| 15/15 [00:22<00:00,  1.49s/it]\n"
     ]
    },
    {
     "name": "stdout",
     "output_type": "stream",
     "text": [
      "train Loss: 0.2215 F1-score: 0.9362\n",
      "predict   0   1   2   3  4\n",
      "label                     \n",
      "0        33   0   0   0  0\n",
      "1         0  33   0   0  0\n",
      "2         0   0  25   0  0\n",
      "3         1   1   0  14  0\n",
      "4         0   1   1   0  6\n"
     ]
    },
    {
     "name": "stderr",
     "output_type": "stream",
     "text": [
      "100%|██████████| 3/3 [00:01<00:00,  2.01it/s]\n"
     ]
    },
    {
     "name": "stdout",
     "output_type": "stream",
     "text": [
      "val Loss: 0.1521 F1-score: 1.0000\n",
      "predict  0  1  2  3  4\n",
      "label                 \n",
      "0        7  0  0  0  0\n",
      "1        0  6  0  0  0\n",
      "2        0  0  5  0  0\n",
      "3        0  0  0  3  0\n",
      "4        0  0  0  0  2\n",
      "Epoch 7/50\n",
      "----------\n"
     ]
    },
    {
     "name": "stderr",
     "output_type": "stream",
     "text": [
      "100%|██████████| 15/15 [00:22<00:00,  1.48s/it]\n"
     ]
    },
    {
     "name": "stdout",
     "output_type": "stream",
     "text": [
      "train Loss: 0.1370 F1-score: 1.0000\n",
      "predict   0   1   2   3  4\n",
      "label                     \n",
      "0        33   0   0   0  0\n",
      "1         0  33   0   0  0\n",
      "2         0   0  25   0  0\n",
      "3         0   0   0  16  0\n",
      "4         0   0   0   0  8\n"
     ]
    },
    {
     "name": "stderr",
     "output_type": "stream",
     "text": [
      "100%|██████████| 3/3 [00:01<00:00,  1.98it/s]\n"
     ]
    },
    {
     "name": "stdout",
     "output_type": "stream",
     "text": [
      "val Loss: 0.0984 F1-score: 1.0000\n",
      "predict  0  1  2  3  4\n",
      "label                 \n",
      "0        7  0  0  0  0\n",
      "1        0  6  0  0  0\n",
      "2        0  0  5  0  0\n",
      "3        0  0  0  3  0\n",
      "4        0  0  0  0  2\n",
      "Epoch 8/50\n",
      "----------\n"
     ]
    },
    {
     "name": "stderr",
     "output_type": "stream",
     "text": [
      "100%|██████████| 15/15 [00:22<00:00,  1.48s/it]\n"
     ]
    },
    {
     "name": "stdout",
     "output_type": "stream",
     "text": [
      "train Loss: 0.0869 F1-score: 0.9924\n",
      "predict   0   1   2   3  4\n",
      "label                     \n",
      "0        33   0   0   0  0\n",
      "1         0  32   0   1  0\n",
      "2         0   0  25   0  0\n",
      "3         0   0   0  16  0\n",
      "4         0   0   0   0  8\n"
     ]
    },
    {
     "name": "stderr",
     "output_type": "stream",
     "text": [
      "100%|██████████| 3/3 [00:01<00:00,  2.00it/s]\n"
     ]
    },
    {
     "name": "stdout",
     "output_type": "stream",
     "text": [
      "val Loss: 0.0592 F1-score: 1.0000\n",
      "predict  0  1  2  3  4\n",
      "label                 \n",
      "0        7  0  0  0  0\n",
      "1        0  6  0  0  0\n",
      "2        0  0  5  0  0\n",
      "3        0  0  0  3  0\n",
      "4        0  0  0  0  2\n",
      "Epoch 9/50\n",
      "----------\n"
     ]
    },
    {
     "name": "stderr",
     "output_type": "stream",
     "text": [
      "100%|██████████| 15/15 [00:22<00:00,  1.49s/it]\n"
     ]
    },
    {
     "name": "stdout",
     "output_type": "stream",
     "text": [
      "train Loss: 0.0542 F1-score: 1.0000\n",
      "predict   0   1   2   3  4\n",
      "label                     \n",
      "0        33   0   0   0  0\n",
      "1         0  33   0   0  0\n",
      "2         0   0  25   0  0\n",
      "3         0   0   0  16  0\n",
      "4         0   0   0   0  8\n"
     ]
    },
    {
     "name": "stderr",
     "output_type": "stream",
     "text": [
      "100%|██████████| 3/3 [00:01<00:00,  1.96it/s]\n"
     ]
    },
    {
     "name": "stdout",
     "output_type": "stream",
     "text": [
      "val Loss: 0.0376 F1-score: 1.0000\n",
      "predict  0  1  2  3  4\n",
      "label                 \n",
      "0        7  0  0  0  0\n",
      "1        0  6  0  0  0\n",
      "2        0  0  5  0  0\n",
      "3        0  0  0  3  0\n",
      "4        0  0  0  0  2\n",
      "Epoch 10/50\n",
      "----------\n"
     ]
    },
    {
     "name": "stderr",
     "output_type": "stream",
     "text": [
      "100%|██████████| 15/15 [00:22<00:00,  1.49s/it]\n"
     ]
    },
    {
     "name": "stdout",
     "output_type": "stream",
     "text": [
      "train Loss: 0.0331 F1-score: 1.0000\n",
      "predict   0   1   2   3  4\n",
      "label                     \n",
      "0        33   0   0   0  0\n",
      "1         0  33   0   0  0\n",
      "2         0   0  25   0  0\n",
      "3         0   0   0  16  0\n",
      "4         0   0   0   0  8\n"
     ]
    },
    {
     "name": "stderr",
     "output_type": "stream",
     "text": [
      "100%|██████████| 3/3 [00:01<00:00,  2.02it/s]\n"
     ]
    },
    {
     "name": "stdout",
     "output_type": "stream",
     "text": [
      "val Loss: 0.0255 F1-score: 1.0000\n",
      "predict  0  1  2  3  4\n",
      "label                 \n",
      "0        7  0  0  0  0\n",
      "1        0  6  0  0  0\n",
      "2        0  0  5  0  0\n",
      "3        0  0  0  3  0\n",
      "4        0  0  0  0  2\n",
      "Epoch 11/50\n",
      "----------\n"
     ]
    },
    {
     "name": "stderr",
     "output_type": "stream",
     "text": [
      "100%|██████████| 15/15 [00:22<00:00,  1.48s/it]\n"
     ]
    },
    {
     "name": "stdout",
     "output_type": "stream",
     "text": [
      "train Loss: 0.0244 F1-score: 1.0000\n",
      "predict   0   1   2   3  4\n",
      "label                     \n",
      "0        33   0   0   0  0\n",
      "1         0  33   0   0  0\n",
      "2         0   0  25   0  0\n",
      "3         0   0   0  16  0\n",
      "4         0   0   0   0  8\n"
     ]
    },
    {
     "name": "stderr",
     "output_type": "stream",
     "text": [
      "100%|██████████| 3/3 [00:01<00:00,  2.00it/s]\n"
     ]
    },
    {
     "name": "stdout",
     "output_type": "stream",
     "text": [
      "val Loss: 0.0206 F1-score: 1.0000\n",
      "predict  0  1  2  3  4\n",
      "label                 \n",
      "0        7  0  0  0  0\n",
      "1        0  6  0  0  0\n",
      "2        0  0  5  0  0\n",
      "3        0  0  0  3  0\n",
      "4        0  0  0  0  2\n",
      "Epoch 12/50\n",
      "----------\n"
     ]
    },
    {
     "name": "stderr",
     "output_type": "stream",
     "text": [
      "100%|██████████| 15/15 [00:22<00:00,  1.49s/it]\n"
     ]
    },
    {
     "name": "stdout",
     "output_type": "stream",
     "text": [
      "train Loss: 0.0198 F1-score: 1.0000\n",
      "predict   0   1   2   3  4\n",
      "label                     \n",
      "0        33   0   0   0  0\n",
      "1         0  33   0   0  0\n",
      "2         0   0  25   0  0\n",
      "3         0   0   0  16  0\n",
      "4         0   0   0   0  8\n"
     ]
    },
    {
     "name": "stderr",
     "output_type": "stream",
     "text": [
      "100%|██████████| 3/3 [00:01<00:00,  2.02it/s]\n"
     ]
    },
    {
     "name": "stdout",
     "output_type": "stream",
     "text": [
      "val Loss: 0.0175 F1-score: 1.0000\n",
      "predict  0  1  2  3  4\n",
      "label                 \n",
      "0        7  0  0  0  0\n",
      "1        0  6  0  0  0\n",
      "2        0  0  5  0  0\n",
      "3        0  0  0  3  0\n",
      "4        0  0  0  0  2\n",
      "Epoch 13/50\n",
      "----------\n"
     ]
    },
    {
     "name": "stderr",
     "output_type": "stream",
     "text": [
      "100%|██████████| 15/15 [00:22<00:00,  1.48s/it]\n"
     ]
    },
    {
     "name": "stdout",
     "output_type": "stream",
     "text": [
      "train Loss: 0.0170 F1-score: 1.0000\n",
      "predict   0   1   2   3  4\n",
      "label                     \n",
      "0        33   0   0   0  0\n",
      "1         0  33   0   0  0\n",
      "2         0   0  25   0  0\n",
      "3         0   0   0  16  0\n",
      "4         0   0   0   0  8\n"
     ]
    },
    {
     "name": "stderr",
     "output_type": "stream",
     "text": [
      "100%|██████████| 3/3 [00:01<00:00,  2.01it/s]\n"
     ]
    },
    {
     "name": "stdout",
     "output_type": "stream",
     "text": [
      "val Loss: 0.0156 F1-score: 1.0000\n",
      "predict  0  1  2  3  4\n",
      "label                 \n",
      "0        7  0  0  0  0\n",
      "1        0  6  0  0  0\n",
      "2        0  0  5  0  0\n",
      "3        0  0  0  3  0\n",
      "4        0  0  0  0  2\n",
      "Epoch 14/50\n",
      "----------\n"
     ]
    },
    {
     "name": "stderr",
     "output_type": "stream",
     "text": [
      "100%|██████████| 15/15 [00:22<00:00,  1.48s/it]\n"
     ]
    },
    {
     "name": "stdout",
     "output_type": "stream",
     "text": [
      "train Loss: 0.0152 F1-score: 1.0000\n",
      "predict   0   1   2   3  4\n",
      "label                     \n",
      "0        33   0   0   0  0\n",
      "1         0  33   0   0  0\n",
      "2         0   0  25   0  0\n",
      "3         0   0   0  16  0\n",
      "4         0   0   0   0  8\n"
     ]
    },
    {
     "name": "stderr",
     "output_type": "stream",
     "text": [
      "100%|██████████| 3/3 [00:01<00:00,  2.02it/s]\n"
     ]
    },
    {
     "name": "stdout",
     "output_type": "stream",
     "text": [
      "val Loss: 0.0140 F1-score: 1.0000\n",
      "predict  0  1  2  3  4\n",
      "label                 \n",
      "0        7  0  0  0  0\n",
      "1        0  6  0  0  0\n",
      "2        0  0  5  0  0\n",
      "3        0  0  0  3  0\n",
      "4        0  0  0  0  2\n",
      "Epoch 15/50\n",
      "----------\n"
     ]
    },
    {
     "name": "stderr",
     "output_type": "stream",
     "text": [
      "100%|██████████| 15/15 [00:22<00:00,  1.48s/it]\n"
     ]
    },
    {
     "name": "stdout",
     "output_type": "stream",
     "text": [
      "train Loss: 0.0137 F1-score: 1.0000\n",
      "predict   0   1   2   3  4\n",
      "label                     \n",
      "0        33   0   0   0  0\n",
      "1         0  33   0   0  0\n",
      "2         0   0  25   0  0\n",
      "3         0   0   0  16  0\n",
      "4         0   0   0   0  8\n"
     ]
    },
    {
     "name": "stderr",
     "output_type": "stream",
     "text": [
      "100%|██████████| 3/3 [00:01<00:00,  2.02it/s]\n"
     ]
    },
    {
     "name": "stdout",
     "output_type": "stream",
     "text": [
      "val Loss: 0.0127 F1-score: 1.0000\n",
      "predict  0  1  2  3  4\n",
      "label                 \n",
      "0        7  0  0  0  0\n",
      "1        0  6  0  0  0\n",
      "2        0  0  5  0  0\n",
      "3        0  0  0  3  0\n",
      "4        0  0  0  0  2\n",
      "Epoch 16/50\n",
      "----------\n"
     ]
    },
    {
     "name": "stderr",
     "output_type": "stream",
     "text": [
      "100%|██████████| 15/15 [00:22<00:00,  1.49s/it]\n"
     ]
    },
    {
     "name": "stdout",
     "output_type": "stream",
     "text": [
      "train Loss: 0.0126 F1-score: 1.0000\n",
      "predict   0   1   2   3  4\n",
      "label                     \n",
      "0        33   0   0   0  0\n",
      "1         0  33   0   0  0\n",
      "2         0   0  25   0  0\n",
      "3         0   0   0  16  0\n",
      "4         0   0   0   0  8\n"
     ]
    },
    {
     "name": "stderr",
     "output_type": "stream",
     "text": [
      "100%|██████████| 3/3 [00:01<00:00,  1.98it/s]\n"
     ]
    },
    {
     "name": "stdout",
     "output_type": "stream",
     "text": [
      "val Loss: 0.0117 F1-score: 1.0000\n",
      "predict  0  1  2  3  4\n",
      "label                 \n",
      "0        7  0  0  0  0\n",
      "1        0  6  0  0  0\n",
      "2        0  0  5  0  0\n",
      "3        0  0  0  3  0\n",
      "4        0  0  0  0  2\n",
      "Epoch 17/50\n",
      "----------\n"
     ]
    },
    {
     "name": "stderr",
     "output_type": "stream",
     "text": [
      "100%|██████████| 15/15 [00:22<00:00,  1.48s/it]\n"
     ]
    },
    {
     "name": "stdout",
     "output_type": "stream",
     "text": [
      "train Loss: 0.0116 F1-score: 1.0000\n",
      "predict   0   1   2   3  4\n",
      "label                     \n",
      "0        33   0   0   0  0\n",
      "1         0  33   0   0  0\n",
      "2         0   0  25   0  0\n",
      "3         0   0   0  16  0\n",
      "4         0   0   0   0  8\n"
     ]
    },
    {
     "name": "stderr",
     "output_type": "stream",
     "text": [
      "100%|██████████| 3/3 [00:01<00:00,  1.95it/s]\n"
     ]
    },
    {
     "name": "stdout",
     "output_type": "stream",
     "text": [
      "val Loss: 0.0108 F1-score: 1.0000\n",
      "predict  0  1  2  3  4\n",
      "label                 \n",
      "0        7  0  0  0  0\n",
      "1        0  6  0  0  0\n",
      "2        0  0  5  0  0\n",
      "3        0  0  0  3  0\n",
      "4        0  0  0  0  2\n",
      "Epoch 18/50\n",
      "----------\n"
     ]
    },
    {
     "name": "stderr",
     "output_type": "stream",
     "text": [
      "100%|██████████| 15/15 [00:22<00:00,  1.48s/it]\n"
     ]
    },
    {
     "name": "stdout",
     "output_type": "stream",
     "text": [
      "train Loss: 0.0108 F1-score: 1.0000\n",
      "predict   0   1   2   3  4\n",
      "label                     \n",
      "0        33   0   0   0  0\n",
      "1         0  33   0   0  0\n",
      "2         0   0  25   0  0\n",
      "3         0   0   0  16  0\n",
      "4         0   0   0   0  8\n"
     ]
    },
    {
     "name": "stderr",
     "output_type": "stream",
     "text": [
      "100%|██████████| 3/3 [00:01<00:00,  1.98it/s]\n"
     ]
    },
    {
     "name": "stdout",
     "output_type": "stream",
     "text": [
      "val Loss: 0.0101 F1-score: 1.0000\n",
      "predict  0  1  2  3  4\n",
      "label                 \n",
      "0        7  0  0  0  0\n",
      "1        0  6  0  0  0\n",
      "2        0  0  5  0  0\n",
      "3        0  0  0  3  0\n",
      "4        0  0  0  0  2\n",
      "Epoch 19/50\n",
      "----------\n"
     ]
    },
    {
     "name": "stderr",
     "output_type": "stream",
     "text": [
      "100%|██████████| 15/15 [00:22<00:00,  1.49s/it]\n"
     ]
    },
    {
     "name": "stdout",
     "output_type": "stream",
     "text": [
      "train Loss: 0.0100 F1-score: 1.0000\n",
      "predict   0   1   2   3  4\n",
      "label                     \n",
      "0        33   0   0   0  0\n",
      "1         0  33   0   0  0\n",
      "2         0   0  25   0  0\n",
      "3         0   0   0  16  0\n",
      "4         0   0   0   0  8\n"
     ]
    },
    {
     "name": "stderr",
     "output_type": "stream",
     "text": [
      "100%|██████████| 3/3 [00:01<00:00,  1.95it/s]\n"
     ]
    },
    {
     "name": "stdout",
     "output_type": "stream",
     "text": [
      "val Loss: 0.0094 F1-score: 1.0000\n",
      "predict  0  1  2  3  4\n",
      "label                 \n",
      "0        7  0  0  0  0\n",
      "1        0  6  0  0  0\n",
      "2        0  0  5  0  0\n",
      "3        0  0  0  3  0\n",
      "4        0  0  0  0  2\n",
      "Epoch 20/50\n",
      "----------\n"
     ]
    },
    {
     "name": "stderr",
     "output_type": "stream",
     "text": [
      "100%|██████████| 15/15 [00:22<00:00,  1.50s/it]\n"
     ]
    },
    {
     "name": "stdout",
     "output_type": "stream",
     "text": [
      "train Loss: 0.0094 F1-score: 1.0000\n",
      "predict   0   1   2   3  4\n",
      "label                     \n",
      "0        33   0   0   0  0\n",
      "1         0  33   0   0  0\n",
      "2         0   0  25   0  0\n",
      "3         0   0   0  16  0\n",
      "4         0   0   0   0  8\n"
     ]
    },
    {
     "name": "stderr",
     "output_type": "stream",
     "text": [
      "100%|██████████| 3/3 [00:01<00:00,  2.02it/s]\n"
     ]
    },
    {
     "name": "stdout",
     "output_type": "stream",
     "text": [
      "val Loss: 0.0088 F1-score: 1.0000\n",
      "predict  0  1  2  3  4\n",
      "label                 \n",
      "0        7  0  0  0  0\n",
      "1        0  6  0  0  0\n",
      "2        0  0  5  0  0\n",
      "3        0  0  0  3  0\n",
      "4        0  0  0  0  2\n",
      "Epoch 21/50\n",
      "----------\n"
     ]
    },
    {
     "name": "stderr",
     "output_type": "stream",
     "text": [
      "100%|██████████| 15/15 [00:22<00:00,  1.50s/it]\n"
     ]
    },
    {
     "name": "stdout",
     "output_type": "stream",
     "text": [
      "train Loss: 0.0088 F1-score: 1.0000\n",
      "predict   0   1   2   3  4\n",
      "label                     \n",
      "0        33   0   0   0  0\n",
      "1         0  33   0   0  0\n",
      "2         0   0  25   0  0\n",
      "3         0   0   0  16  0\n",
      "4         0   0   0   0  8\n"
     ]
    },
    {
     "name": "stderr",
     "output_type": "stream",
     "text": [
      "100%|██████████| 3/3 [00:01<00:00,  2.01it/s]\n"
     ]
    },
    {
     "name": "stdout",
     "output_type": "stream",
     "text": [
      "val Loss: 0.0083 F1-score: 1.0000\n",
      "predict  0  1  2  3  4\n",
      "label                 \n",
      "0        7  0  0  0  0\n",
      "1        0  6  0  0  0\n",
      "2        0  0  5  0  0\n",
      "3        0  0  0  3  0\n",
      "4        0  0  0  0  2\n",
      "Epoch 22/50\n",
      "----------\n"
     ]
    },
    {
     "name": "stderr",
     "output_type": "stream",
     "text": [
      "100%|██████████| 15/15 [00:22<00:00,  1.49s/it]\n"
     ]
    },
    {
     "name": "stdout",
     "output_type": "stream",
     "text": [
      "train Loss: 0.0083 F1-score: 1.0000\n",
      "predict   0   1   2   3  4\n",
      "label                     \n",
      "0        33   0   0   0  0\n",
      "1         0  33   0   0  0\n",
      "2         0   0  25   0  0\n",
      "3         0   0   0  16  0\n",
      "4         0   0   0   0  8\n"
     ]
    },
    {
     "name": "stderr",
     "output_type": "stream",
     "text": [
      "100%|██████████| 3/3 [00:01<00:00,  1.88it/s]\n"
     ]
    },
    {
     "name": "stdout",
     "output_type": "stream",
     "text": [
      "val Loss: 0.0078 F1-score: 1.0000\n",
      "predict  0  1  2  3  4\n",
      "label                 \n",
      "0        7  0  0  0  0\n",
      "1        0  6  0  0  0\n",
      "2        0  0  5  0  0\n",
      "3        0  0  0  3  0\n",
      "4        0  0  0  0  2\n",
      "Epoch 23/50\n",
      "----------\n"
     ]
    },
    {
     "name": "stderr",
     "output_type": "stream",
     "text": [
      "100%|██████████| 15/15 [00:22<00:00,  1.47s/it]\n"
     ]
    },
    {
     "name": "stdout",
     "output_type": "stream",
     "text": [
      "train Loss: 0.0079 F1-score: 1.0000\n",
      "predict   0   1   2   3  4\n",
      "label                     \n",
      "0        33   0   0   0  0\n",
      "1         0  33   0   0  0\n",
      "2         0   0  25   0  0\n",
      "3         0   0   0  16  0\n",
      "4         0   0   0   0  8\n"
     ]
    },
    {
     "name": "stderr",
     "output_type": "stream",
     "text": [
      "100%|██████████| 3/3 [00:01<00:00,  1.94it/s]\n"
     ]
    },
    {
     "name": "stdout",
     "output_type": "stream",
     "text": [
      "val Loss: 0.0074 F1-score: 1.0000\n",
      "predict  0  1  2  3  4\n",
      "label                 \n",
      "0        7  0  0  0  0\n",
      "1        0  6  0  0  0\n",
      "2        0  0  5  0  0\n",
      "3        0  0  0  3  0\n",
      "4        0  0  0  0  2\n",
      "Epoch 24/50\n",
      "----------\n"
     ]
    },
    {
     "name": "stderr",
     "output_type": "stream",
     "text": [
      "100%|██████████| 15/15 [00:22<00:00,  1.48s/it]\n"
     ]
    },
    {
     "name": "stdout",
     "output_type": "stream",
     "text": [
      "train Loss: 0.0074 F1-score: 1.0000\n",
      "predict   0   1   2   3  4\n",
      "label                     \n",
      "0        33   0   0   0  0\n",
      "1         0  33   0   0  0\n",
      "2         0   0  25   0  0\n",
      "3         0   0   0  16  0\n",
      "4         0   0   0   0  8\n"
     ]
    },
    {
     "name": "stderr",
     "output_type": "stream",
     "text": [
      "100%|██████████| 3/3 [00:01<00:00,  1.97it/s]\n"
     ]
    },
    {
     "name": "stdout",
     "output_type": "stream",
     "text": [
      "val Loss: 0.0070 F1-score: 1.0000\n",
      "predict  0  1  2  3  4\n",
      "label                 \n",
      "0        7  0  0  0  0\n",
      "1        0  6  0  0  0\n",
      "2        0  0  5  0  0\n",
      "3        0  0  0  3  0\n",
      "4        0  0  0  0  2\n",
      "Epoch 25/50\n",
      "----------\n"
     ]
    },
    {
     "name": "stderr",
     "output_type": "stream",
     "text": [
      "100%|██████████| 15/15 [00:22<00:00,  1.48s/it]\n"
     ]
    },
    {
     "name": "stdout",
     "output_type": "stream",
     "text": [
      "train Loss: 0.0071 F1-score: 1.0000\n",
      "predict   0   1   2   3  4\n",
      "label                     \n",
      "0        33   0   0   0  0\n",
      "1         0  33   0   0  0\n",
      "2         0   0  25   0  0\n",
      "3         0   0   0  16  0\n",
      "4         0   0   0   0  8\n"
     ]
    },
    {
     "name": "stderr",
     "output_type": "stream",
     "text": [
      "100%|██████████| 3/3 [00:01<00:00,  1.96it/s]\n"
     ]
    },
    {
     "name": "stdout",
     "output_type": "stream",
     "text": [
      "val Loss: 0.0066 F1-score: 1.0000\n",
      "predict  0  1  2  3  4\n",
      "label                 \n",
      "0        7  0  0  0  0\n",
      "1        0  6  0  0  0\n",
      "2        0  0  5  0  0\n",
      "3        0  0  0  3  0\n",
      "4        0  0  0  0  2\n",
      "Epoch 26/50\n",
      "----------\n"
     ]
    },
    {
     "name": "stderr",
     "output_type": "stream",
     "text": [
      "100%|██████████| 15/15 [00:22<00:00,  1.49s/it]\n"
     ]
    },
    {
     "name": "stdout",
     "output_type": "stream",
     "text": [
      "train Loss: 0.0067 F1-score: 1.0000\n",
      "predict   0   1   2   3  4\n",
      "label                     \n",
      "0        33   0   0   0  0\n",
      "1         0  33   0   0  0\n",
      "2         0   0  25   0  0\n",
      "3         0   0   0  16  0\n",
      "4         0   0   0   0  8\n"
     ]
    },
    {
     "name": "stderr",
     "output_type": "stream",
     "text": [
      "100%|██████████| 3/3 [00:01<00:00,  1.96it/s]\n"
     ]
    },
    {
     "name": "stdout",
     "output_type": "stream",
     "text": [
      "val Loss: 0.0063 F1-score: 1.0000\n",
      "predict  0  1  2  3  4\n",
      "label                 \n",
      "0        7  0  0  0  0\n",
      "1        0  6  0  0  0\n",
      "2        0  0  5  0  0\n",
      "3        0  0  0  3  0\n",
      "4        0  0  0  0  2\n",
      "Epoch 27/50\n",
      "----------\n"
     ]
    },
    {
     "name": "stderr",
     "output_type": "stream",
     "text": [
      "100%|██████████| 15/15 [00:22<00:00,  1.53s/it]\n"
     ]
    },
    {
     "name": "stdout",
     "output_type": "stream",
     "text": [
      "train Loss: 0.0064 F1-score: 1.0000\n",
      "predict   0   1   2   3  4\n",
      "label                     \n",
      "0        33   0   0   0  0\n",
      "1         0  33   0   0  0\n",
      "2         0   0  25   0  0\n",
      "3         0   0   0  16  0\n",
      "4         0   0   0   0  8\n"
     ]
    },
    {
     "name": "stderr",
     "output_type": "stream",
     "text": [
      "100%|██████████| 3/3 [00:01<00:00,  2.01it/s]\n"
     ]
    },
    {
     "name": "stdout",
     "output_type": "stream",
     "text": [
      "val Loss: 0.0060 F1-score: 1.0000\n",
      "predict  0  1  2  3  4\n",
      "label                 \n",
      "0        7  0  0  0  0\n",
      "1        0  6  0  0  0\n",
      "2        0  0  5  0  0\n",
      "3        0  0  0  3  0\n",
      "4        0  0  0  0  2\n",
      "Epoch 28/50\n",
      "----------\n"
     ]
    },
    {
     "name": "stderr",
     "output_type": "stream",
     "text": [
      "100%|██████████| 15/15 [00:22<00:00,  1.49s/it]\n"
     ]
    },
    {
     "name": "stdout",
     "output_type": "stream",
     "text": [
      "train Loss: 0.0061 F1-score: 1.0000\n",
      "predict   0   1   2   3  4\n",
      "label                     \n",
      "0        33   0   0   0  0\n",
      "1         0  33   0   0  0\n",
      "2         0   0  25   0  0\n",
      "3         0   0   0  16  0\n",
      "4         0   0   0   0  8\n"
     ]
    },
    {
     "name": "stderr",
     "output_type": "stream",
     "text": [
      "100%|██████████| 3/3 [00:01<00:00,  1.99it/s]\n"
     ]
    },
    {
     "name": "stdout",
     "output_type": "stream",
     "text": [
      "val Loss: 0.0058 F1-score: 1.0000\n",
      "predict  0  1  2  3  4\n",
      "label                 \n",
      "0        7  0  0  0  0\n",
      "1        0  6  0  0  0\n",
      "2        0  0  5  0  0\n",
      "3        0  0  0  3  0\n",
      "4        0  0  0  0  2\n",
      "Epoch 29/50\n",
      "----------\n"
     ]
    },
    {
     "name": "stderr",
     "output_type": "stream",
     "text": [
      "100%|██████████| 15/15 [00:22<00:00,  1.48s/it]\n"
     ]
    },
    {
     "name": "stdout",
     "output_type": "stream",
     "text": [
      "train Loss: 0.0058 F1-score: 1.0000\n",
      "predict   0   1   2   3  4\n",
      "label                     \n",
      "0        33   0   0   0  0\n",
      "1         0  33   0   0  0\n",
      "2         0   0  25   0  0\n",
      "3         0   0   0  16  0\n",
      "4         0   0   0   0  8\n"
     ]
    },
    {
     "name": "stderr",
     "output_type": "stream",
     "text": [
      "100%|██████████| 3/3 [00:01<00:00,  1.98it/s]\n"
     ]
    },
    {
     "name": "stdout",
     "output_type": "stream",
     "text": [
      "val Loss: 0.0055 F1-score: 1.0000\n",
      "predict  0  1  2  3  4\n",
      "label                 \n",
      "0        7  0  0  0  0\n",
      "1        0  6  0  0  0\n",
      "2        0  0  5  0  0\n",
      "3        0  0  0  3  0\n",
      "4        0  0  0  0  2\n",
      "Epoch 30/50\n",
      "----------\n"
     ]
    },
    {
     "name": "stderr",
     "output_type": "stream",
     "text": [
      "100%|██████████| 15/15 [00:22<00:00,  1.48s/it]\n"
     ]
    },
    {
     "name": "stdout",
     "output_type": "stream",
     "text": [
      "train Loss: 0.0056 F1-score: 1.0000\n",
      "predict   0   1   2   3  4\n",
      "label                     \n",
      "0        33   0   0   0  0\n",
      "1         0  33   0   0  0\n",
      "2         0   0  25   0  0\n",
      "3         0   0   0  16  0\n",
      "4         0   0   0   0  8\n"
     ]
    },
    {
     "name": "stderr",
     "output_type": "stream",
     "text": [
      "100%|██████████| 3/3 [00:01<00:00,  1.98it/s]\n"
     ]
    },
    {
     "name": "stdout",
     "output_type": "stream",
     "text": [
      "val Loss: 0.0052 F1-score: 1.0000\n",
      "predict  0  1  2  3  4\n",
      "label                 \n",
      "0        7  0  0  0  0\n",
      "1        0  6  0  0  0\n",
      "2        0  0  5  0  0\n",
      "3        0  0  0  3  0\n",
      "4        0  0  0  0  2\n",
      "Epoch 31/50\n",
      "----------\n"
     ]
    },
    {
     "name": "stderr",
     "output_type": "stream",
     "text": [
      "100%|██████████| 15/15 [00:22<00:00,  1.48s/it]\n"
     ]
    },
    {
     "name": "stdout",
     "output_type": "stream",
     "text": [
      "train Loss: 0.0053 F1-score: 1.0000\n",
      "predict   0   1   2   3  4\n",
      "label                     \n",
      "0        33   0   0   0  0\n",
      "1         0  33   0   0  0\n",
      "2         0   0  25   0  0\n",
      "3         0   0   0  16  0\n",
      "4         0   0   0   0  8\n"
     ]
    },
    {
     "name": "stderr",
     "output_type": "stream",
     "text": [
      "100%|██████████| 3/3 [00:01<00:00,  1.96it/s]\n"
     ]
    },
    {
     "name": "stdout",
     "output_type": "stream",
     "text": [
      "val Loss: 0.0050 F1-score: 1.0000\n",
      "predict  0  1  2  3  4\n",
      "label                 \n",
      "0        7  0  0  0  0\n",
      "1        0  6  0  0  0\n",
      "2        0  0  5  0  0\n",
      "3        0  0  0  3  0\n",
      "4        0  0  0  0  2\n",
      "Epoch 32/50\n",
      "----------\n"
     ]
    },
    {
     "name": "stderr",
     "output_type": "stream",
     "text": [
      "100%|██████████| 15/15 [00:22<00:00,  1.50s/it]\n"
     ]
    },
    {
     "name": "stdout",
     "output_type": "stream",
     "text": [
      "train Loss: 0.0051 F1-score: 1.0000\n",
      "predict   0   1   2   3  4\n",
      "label                     \n",
      "0        33   0   0   0  0\n",
      "1         0  33   0   0  0\n",
      "2         0   0  25   0  0\n",
      "3         0   0   0  16  0\n",
      "4         0   0   0   0  8\n"
     ]
    },
    {
     "name": "stderr",
     "output_type": "stream",
     "text": [
      "100%|██████████| 3/3 [00:01<00:00,  1.98it/s]\n"
     ]
    },
    {
     "name": "stdout",
     "output_type": "stream",
     "text": [
      "val Loss: 0.0048 F1-score: 1.0000\n",
      "predict  0  1  2  3  4\n",
      "label                 \n",
      "0        7  0  0  0  0\n",
      "1        0  6  0  0  0\n",
      "2        0  0  5  0  0\n",
      "3        0  0  0  3  0\n",
      "4        0  0  0  0  2\n",
      "Epoch 33/50\n",
      "----------\n"
     ]
    },
    {
     "name": "stderr",
     "output_type": "stream",
     "text": [
      "100%|██████████| 15/15 [00:22<00:00,  1.48s/it]\n"
     ]
    },
    {
     "name": "stdout",
     "output_type": "stream",
     "text": [
      "train Loss: 0.0049 F1-score: 1.0000\n",
      "predict   0   1   2   3  4\n",
      "label                     \n",
      "0        33   0   0   0  0\n",
      "1         0  33   0   0  0\n",
      "2         0   0  25   0  0\n",
      "3         0   0   0  16  0\n",
      "4         0   0   0   0  8\n"
     ]
    },
    {
     "name": "stderr",
     "output_type": "stream",
     "text": [
      "100%|██████████| 3/3 [00:01<00:00,  1.96it/s]\n"
     ]
    },
    {
     "name": "stdout",
     "output_type": "stream",
     "text": [
      "val Loss: 0.0046 F1-score: 1.0000\n",
      "predict  0  1  2  3  4\n",
      "label                 \n",
      "0        7  0  0  0  0\n",
      "1        0  6  0  0  0\n",
      "2        0  0  5  0  0\n",
      "3        0  0  0  3  0\n",
      "4        0  0  0  0  2\n",
      "Epoch 34/50\n",
      "----------\n"
     ]
    },
    {
     "name": "stderr",
     "output_type": "stream",
     "text": [
      "100%|██████████| 15/15 [00:22<00:00,  1.48s/it]\n"
     ]
    },
    {
     "name": "stdout",
     "output_type": "stream",
     "text": [
      "train Loss: 0.0047 F1-score: 1.0000\n",
      "predict   0   1   2   3  4\n",
      "label                     \n",
      "0        33   0   0   0  0\n",
      "1         0  33   0   0  0\n",
      "2         0   0  25   0  0\n",
      "3         0   0   0  16  0\n",
      "4         0   0   0   0  8\n"
     ]
    },
    {
     "name": "stderr",
     "output_type": "stream",
     "text": [
      "100%|██████████| 3/3 [00:01<00:00,  1.99it/s]\n"
     ]
    },
    {
     "name": "stdout",
     "output_type": "stream",
     "text": [
      "val Loss: 0.0045 F1-score: 1.0000\n",
      "predict  0  1  2  3  4\n",
      "label                 \n",
      "0        7  0  0  0  0\n",
      "1        0  6  0  0  0\n",
      "2        0  0  5  0  0\n",
      "3        0  0  0  3  0\n",
      "4        0  0  0  0  2\n",
      "Epoch 35/50\n",
      "----------\n"
     ]
    },
    {
     "name": "stderr",
     "output_type": "stream",
     "text": [
      "100%|██████████| 15/15 [00:22<00:00,  1.48s/it]\n"
     ]
    },
    {
     "name": "stdout",
     "output_type": "stream",
     "text": [
      "train Loss: 0.0046 F1-score: 1.0000\n",
      "predict   0   1   2   3  4\n",
      "label                     \n",
      "0        33   0   0   0  0\n",
      "1         0  33   0   0  0\n",
      "2         0   0  25   0  0\n",
      "3         0   0   0  16  0\n",
      "4         0   0   0   0  8\n"
     ]
    },
    {
     "name": "stderr",
     "output_type": "stream",
     "text": [
      "100%|██████████| 3/3 [00:01<00:00,  1.96it/s]\n"
     ]
    },
    {
     "name": "stdout",
     "output_type": "stream",
     "text": [
      "val Loss: 0.0043 F1-score: 1.0000\n",
      "predict  0  1  2  3  4\n",
      "label                 \n",
      "0        7  0  0  0  0\n",
      "1        0  6  0  0  0\n",
      "2        0  0  5  0  0\n",
      "3        0  0  0  3  0\n",
      "4        0  0  0  0  2\n",
      "Epoch 36/50\n",
      "----------\n"
     ]
    },
    {
     "name": "stderr",
     "output_type": "stream",
     "text": [
      "100%|██████████| 15/15 [00:22<00:00,  1.48s/it]\n"
     ]
    },
    {
     "name": "stdout",
     "output_type": "stream",
     "text": [
      "train Loss: 0.0044 F1-score: 1.0000\n",
      "predict   0   1   2   3  4\n",
      "label                     \n",
      "0        33   0   0   0  0\n",
      "1         0  33   0   0  0\n",
      "2         0   0  25   0  0\n",
      "3         0   0   0  16  0\n",
      "4         0   0   0   0  8\n"
     ]
    },
    {
     "name": "stderr",
     "output_type": "stream",
     "text": [
      "100%|██████████| 3/3 [00:01<00:00,  1.94it/s]\n"
     ]
    },
    {
     "name": "stdout",
     "output_type": "stream",
     "text": [
      "val Loss: 0.0042 F1-score: 1.0000\n",
      "predict  0  1  2  3  4\n",
      "label                 \n",
      "0        7  0  0  0  0\n",
      "1        0  6  0  0  0\n",
      "2        0  0  5  0  0\n",
      "3        0  0  0  3  0\n",
      "4        0  0  0  0  2\n",
      "Epoch 37/50\n",
      "----------\n"
     ]
    },
    {
     "name": "stderr",
     "output_type": "stream",
     "text": [
      "100%|██████████| 15/15 [00:22<00:00,  1.48s/it]\n"
     ]
    },
    {
     "name": "stdout",
     "output_type": "stream",
     "text": [
      "train Loss: 0.0042 F1-score: 1.0000\n",
      "predict   0   1   2   3  4\n",
      "label                     \n",
      "0        33   0   0   0  0\n",
      "1         0  33   0   0  0\n",
      "2         0   0  25   0  0\n",
      "3         0   0   0  16  0\n",
      "4         0   0   0   0  8\n"
     ]
    },
    {
     "name": "stderr",
     "output_type": "stream",
     "text": [
      "100%|██████████| 3/3 [00:01<00:00,  2.01it/s]\n"
     ]
    },
    {
     "name": "stdout",
     "output_type": "stream",
     "text": [
      "val Loss: 0.0040 F1-score: 1.0000\n",
      "predict  0  1  2  3  4\n",
      "label                 \n",
      "0        7  0  0  0  0\n",
      "1        0  6  0  0  0\n",
      "2        0  0  5  0  0\n",
      "3        0  0  0  3  0\n",
      "4        0  0  0  0  2\n",
      "Epoch 38/50\n",
      "----------\n"
     ]
    },
    {
     "name": "stderr",
     "output_type": "stream",
     "text": [
      "100%|██████████| 15/15 [00:22<00:00,  1.48s/it]\n"
     ]
    },
    {
     "name": "stdout",
     "output_type": "stream",
     "text": [
      "train Loss: 0.0041 F1-score: 1.0000\n",
      "predict   0   1   2   3  4\n",
      "label                     \n",
      "0        33   0   0   0  0\n",
      "1         0  33   0   0  0\n",
      "2         0   0  25   0  0\n",
      "3         0   0   0  16  0\n",
      "4         0   0   0   0  8\n"
     ]
    },
    {
     "name": "stderr",
     "output_type": "stream",
     "text": [
      "100%|██████████| 3/3 [00:01<00:00,  1.96it/s]\n"
     ]
    },
    {
     "name": "stdout",
     "output_type": "stream",
     "text": [
      "val Loss: 0.0039 F1-score: 1.0000\n",
      "predict  0  1  2  3  4\n",
      "label                 \n",
      "0        7  0  0  0  0\n",
      "1        0  6  0  0  0\n",
      "2        0  0  5  0  0\n",
      "3        0  0  0  3  0\n",
      "4        0  0  0  0  2\n",
      "Epoch 39/50\n",
      "----------\n"
     ]
    },
    {
     "name": "stderr",
     "output_type": "stream",
     "text": [
      "100%|██████████| 15/15 [00:22<00:00,  1.48s/it]\n"
     ]
    },
    {
     "name": "stdout",
     "output_type": "stream",
     "text": [
      "train Loss: 0.0039 F1-score: 1.0000\n",
      "predict   0   1   2   3  4\n",
      "label                     \n",
      "0        33   0   0   0  0\n",
      "1         0  33   0   0  0\n",
      "2         0   0  25   0  0\n",
      "3         0   0   0  16  0\n",
      "4         0   0   0   0  8\n"
     ]
    },
    {
     "name": "stderr",
     "output_type": "stream",
     "text": [
      "100%|██████████| 3/3 [00:01<00:00,  2.00it/s]\n"
     ]
    },
    {
     "name": "stdout",
     "output_type": "stream",
     "text": [
      "val Loss: 0.0037 F1-score: 1.0000\n",
      "predict  0  1  2  3  4\n",
      "label                 \n",
      "0        7  0  0  0  0\n",
      "1        0  6  0  0  0\n",
      "2        0  0  5  0  0\n",
      "3        0  0  0  3  0\n",
      "4        0  0  0  0  2\n",
      "Epoch 40/50\n",
      "----------\n"
     ]
    },
    {
     "name": "stderr",
     "output_type": "stream",
     "text": [
      "100%|██████████| 15/15 [00:23<00:00,  1.54s/it]\n"
     ]
    },
    {
     "name": "stdout",
     "output_type": "stream",
     "text": [
      "train Loss: 0.0038 F1-score: 1.0000\n",
      "predict   0   1   2   3  4\n",
      "label                     \n",
      "0        33   0   0   0  0\n",
      "1         0  33   0   0  0\n",
      "2         0   0  25   0  0\n",
      "3         0   0   0  16  0\n",
      "4         0   0   0   0  8\n"
     ]
    },
    {
     "name": "stderr",
     "output_type": "stream",
     "text": [
      "100%|██████████| 3/3 [00:01<00:00,  2.00it/s]\n"
     ]
    },
    {
     "name": "stdout",
     "output_type": "stream",
     "text": [
      "val Loss: 0.0036 F1-score: 1.0000\n",
      "predict  0  1  2  3  4\n",
      "label                 \n",
      "0        7  0  0  0  0\n",
      "1        0  6  0  0  0\n",
      "2        0  0  5  0  0\n",
      "3        0  0  0  3  0\n",
      "4        0  0  0  0  2\n",
      "Epoch 41/50\n",
      "----------\n"
     ]
    },
    {
     "name": "stderr",
     "output_type": "stream",
     "text": [
      "100%|██████████| 15/15 [00:22<00:00,  1.49s/it]\n"
     ]
    },
    {
     "name": "stdout",
     "output_type": "stream",
     "text": [
      "train Loss: 0.0037 F1-score: 1.0000\n",
      "predict   0   1   2   3  4\n",
      "label                     \n",
      "0        33   0   0   0  0\n",
      "1         0  33   0   0  0\n",
      "2         0   0  25   0  0\n",
      "3         0   0   0  16  0\n",
      "4         0   0   0   0  8\n"
     ]
    },
    {
     "name": "stderr",
     "output_type": "stream",
     "text": [
      "100%|██████████| 3/3 [00:01<00:00,  2.02it/s]\n"
     ]
    },
    {
     "name": "stdout",
     "output_type": "stream",
     "text": [
      "val Loss: 0.0034 F1-score: 1.0000\n",
      "predict  0  1  2  3  4\n",
      "label                 \n",
      "0        7  0  0  0  0\n",
      "1        0  6  0  0  0\n",
      "2        0  0  5  0  0\n",
      "3        0  0  0  3  0\n",
      "4        0  0  0  0  2\n",
      "Epoch 42/50\n",
      "----------\n"
     ]
    },
    {
     "name": "stderr",
     "output_type": "stream",
     "text": [
      "100%|██████████| 15/15 [00:22<00:00,  1.48s/it]\n"
     ]
    },
    {
     "name": "stdout",
     "output_type": "stream",
     "text": [
      "train Loss: 0.0035 F1-score: 1.0000\n",
      "predict   0   1   2   3  4\n",
      "label                     \n",
      "0        33   0   0   0  0\n",
      "1         0  33   0   0  0\n",
      "2         0   0  25   0  0\n",
      "3         0   0   0  16  0\n",
      "4         0   0   0   0  8\n"
     ]
    },
    {
     "name": "stderr",
     "output_type": "stream",
     "text": [
      "100%|██████████| 3/3 [00:01<00:00,  1.98it/s]\n"
     ]
    },
    {
     "name": "stdout",
     "output_type": "stream",
     "text": [
      "val Loss: 0.0033 F1-score: 1.0000\n",
      "predict  0  1  2  3  4\n",
      "label                 \n",
      "0        7  0  0  0  0\n",
      "1        0  6  0  0  0\n",
      "2        0  0  5  0  0\n",
      "3        0  0  0  3  0\n",
      "4        0  0  0  0  2\n",
      "Epoch 43/50\n",
      "----------\n"
     ]
    },
    {
     "name": "stderr",
     "output_type": "stream",
     "text": [
      "100%|██████████| 15/15 [00:22<00:00,  1.48s/it]\n"
     ]
    },
    {
     "name": "stdout",
     "output_type": "stream",
     "text": [
      "train Loss: 0.0034 F1-score: 1.0000\n",
      "predict   0   1   2   3  4\n",
      "label                     \n",
      "0        33   0   0   0  0\n",
      "1         0  33   0   0  0\n",
      "2         0   0  25   0  0\n",
      "3         0   0   0  16  0\n",
      "4         0   0   0   0  8\n"
     ]
    },
    {
     "name": "stderr",
     "output_type": "stream",
     "text": [
      "100%|██████████| 3/3 [00:01<00:00,  1.98it/s]\n"
     ]
    },
    {
     "name": "stdout",
     "output_type": "stream",
     "text": [
      "val Loss: 0.0032 F1-score: 1.0000\n",
      "predict  0  1  2  3  4\n",
      "label                 \n",
      "0        7  0  0  0  0\n",
      "1        0  6  0  0  0\n",
      "2        0  0  5  0  0\n",
      "3        0  0  0  3  0\n",
      "4        0  0  0  0  2\n",
      "Epoch 44/50\n",
      "----------\n"
     ]
    },
    {
     "name": "stderr",
     "output_type": "stream",
     "text": [
      "100%|██████████| 15/15 [00:22<00:00,  1.49s/it]\n"
     ]
    },
    {
     "name": "stdout",
     "output_type": "stream",
     "text": [
      "train Loss: 0.0033 F1-score: 1.0000\n",
      "predict   0   1   2   3  4\n",
      "label                     \n",
      "0        33   0   0   0  0\n",
      "1         0  33   0   0  0\n",
      "2         0   0  25   0  0\n",
      "3         0   0   0  16  0\n",
      "4         0   0   0   0  8\n"
     ]
    },
    {
     "name": "stderr",
     "output_type": "stream",
     "text": [
      "100%|██████████| 3/3 [00:01<00:00,  2.01it/s]\n"
     ]
    },
    {
     "name": "stdout",
     "output_type": "stream",
     "text": [
      "val Loss: 0.0031 F1-score: 1.0000\n",
      "predict  0  1  2  3  4\n",
      "label                 \n",
      "0        7  0  0  0  0\n",
      "1        0  6  0  0  0\n",
      "2        0  0  5  0  0\n",
      "3        0  0  0  3  0\n",
      "4        0  0  0  0  2\n",
      "Epoch 45/50\n",
      "----------\n"
     ]
    },
    {
     "name": "stderr",
     "output_type": "stream",
     "text": [
      "100%|██████████| 15/15 [00:22<00:00,  1.49s/it]\n"
     ]
    },
    {
     "name": "stdout",
     "output_type": "stream",
     "text": [
      "train Loss: 0.0032 F1-score: 1.0000\n",
      "predict   0   1   2   3  4\n",
      "label                     \n",
      "0        33   0   0   0  0\n",
      "1         0  33   0   0  0\n",
      "2         0   0  25   0  0\n",
      "3         0   0   0  16  0\n",
      "4         0   0   0   0  8\n"
     ]
    },
    {
     "name": "stderr",
     "output_type": "stream",
     "text": [
      "100%|██████████| 3/3 [00:01<00:00,  2.00it/s]\n"
     ]
    },
    {
     "name": "stdout",
     "output_type": "stream",
     "text": [
      "val Loss: 0.0030 F1-score: 1.0000\n",
      "predict  0  1  2  3  4\n",
      "label                 \n",
      "0        7  0  0  0  0\n",
      "1        0  6  0  0  0\n",
      "2        0  0  5  0  0\n",
      "3        0  0  0  3  0\n",
      "4        0  0  0  0  2\n",
      "Epoch 46/50\n",
      "----------\n"
     ]
    },
    {
     "name": "stderr",
     "output_type": "stream",
     "text": [
      "100%|██████████| 15/15 [00:22<00:00,  1.48s/it]\n"
     ]
    },
    {
     "name": "stdout",
     "output_type": "stream",
     "text": [
      "train Loss: 0.0031 F1-score: 1.0000\n",
      "predict   0   1   2   3  4\n",
      "label                     \n",
      "0        33   0   0   0  0\n",
      "1         0  33   0   0  0\n",
      "2         0   0  25   0  0\n",
      "3         0   0   0  16  0\n",
      "4         0   0   0   0  8\n"
     ]
    },
    {
     "name": "stderr",
     "output_type": "stream",
     "text": [
      "100%|██████████| 3/3 [00:01<00:00,  1.99it/s]\n"
     ]
    },
    {
     "name": "stdout",
     "output_type": "stream",
     "text": [
      "val Loss: 0.0029 F1-score: 1.0000\n",
      "predict  0  1  2  3  4\n",
      "label                 \n",
      "0        7  0  0  0  0\n",
      "1        0  6  0  0  0\n",
      "2        0  0  5  0  0\n",
      "3        0  0  0  3  0\n",
      "4        0  0  0  0  2\n",
      "Epoch 47/50\n",
      "----------\n"
     ]
    },
    {
     "name": "stderr",
     "output_type": "stream",
     "text": [
      "100%|██████████| 15/15 [00:22<00:00,  1.48s/it]\n"
     ]
    },
    {
     "name": "stdout",
     "output_type": "stream",
     "text": [
      "train Loss: 0.0030 F1-score: 1.0000\n",
      "predict   0   1   2   3  4\n",
      "label                     \n",
      "0        33   0   0   0  0\n",
      "1         0  33   0   0  0\n",
      "2         0   0  25   0  0\n",
      "3         0   0   0  16  0\n",
      "4         0   0   0   0  8\n"
     ]
    },
    {
     "name": "stderr",
     "output_type": "stream",
     "text": [
      "100%|██████████| 3/3 [00:01<00:00,  1.95it/s]\n"
     ]
    },
    {
     "name": "stdout",
     "output_type": "stream",
     "text": [
      "val Loss: 0.0028 F1-score: 1.0000\n",
      "predict  0  1  2  3  4\n",
      "label                 \n",
      "0        7  0  0  0  0\n",
      "1        0  6  0  0  0\n",
      "2        0  0  5  0  0\n",
      "3        0  0  0  3  0\n",
      "4        0  0  0  0  2\n",
      "Epoch 48/50\n",
      "----------\n"
     ]
    },
    {
     "name": "stderr",
     "output_type": "stream",
     "text": [
      "100%|██████████| 15/15 [00:22<00:00,  1.48s/it]\n"
     ]
    },
    {
     "name": "stdout",
     "output_type": "stream",
     "text": [
      "train Loss: 0.0030 F1-score: 1.0000\n",
      "predict   0   1   2   3  4\n",
      "label                     \n",
      "0        33   0   0   0  0\n",
      "1         0  33   0   0  0\n",
      "2         0   0  25   0  0\n",
      "3         0   0   0  16  0\n",
      "4         0   0   0   0  8\n"
     ]
    },
    {
     "name": "stderr",
     "output_type": "stream",
     "text": [
      "100%|██████████| 3/3 [00:01<00:00,  1.99it/s]\n"
     ]
    },
    {
     "name": "stdout",
     "output_type": "stream",
     "text": [
      "val Loss: 0.0028 F1-score: 1.0000\n",
      "predict  0  1  2  3  4\n",
      "label                 \n",
      "0        7  0  0  0  0\n",
      "1        0  6  0  0  0\n",
      "2        0  0  5  0  0\n",
      "3        0  0  0  3  0\n",
      "4        0  0  0  0  2\n",
      "Epoch 49/50\n",
      "----------\n"
     ]
    },
    {
     "name": "stderr",
     "output_type": "stream",
     "text": [
      "100%|██████████| 15/15 [00:22<00:00,  1.49s/it]\n"
     ]
    },
    {
     "name": "stdout",
     "output_type": "stream",
     "text": [
      "train Loss: 0.0029 F1-score: 1.0000\n",
      "predict   0   1   2   3  4\n",
      "label                     \n",
      "0        33   0   0   0  0\n",
      "1         0  33   0   0  0\n",
      "2         0   0  25   0  0\n",
      "3         0   0   0  16  0\n",
      "4         0   0   0   0  8\n"
     ]
    },
    {
     "name": "stderr",
     "output_type": "stream",
     "text": [
      "100%|██████████| 3/3 [00:01<00:00,  1.99it/s]\n"
     ]
    },
    {
     "name": "stdout",
     "output_type": "stream",
     "text": [
      "val Loss: 0.0027 F1-score: 1.0000\n",
      "predict  0  1  2  3  4\n",
      "label                 \n",
      "0        7  0  0  0  0\n",
      "1        0  6  0  0  0\n",
      "2        0  0  5  0  0\n",
      "3        0  0  0  3  0\n",
      "4        0  0  0  0  2\n",
      "Epoch 50/50\n",
      "----------\n"
     ]
    },
    {
     "name": "stderr",
     "output_type": "stream",
     "text": [
      "100%|██████████| 15/15 [00:22<00:00,  1.48s/it]\n"
     ]
    },
    {
     "name": "stdout",
     "output_type": "stream",
     "text": [
      "train Loss: 0.0028 F1-score: 1.0000\n",
      "predict   0   1   2   3  4\n",
      "label                     \n",
      "0        33   0   0   0  0\n",
      "1         0  33   0   0  0\n",
      "2         0   0  25   0  0\n",
      "3         0   0   0  16  0\n",
      "4         0   0   0   0  8\n"
     ]
    },
    {
     "name": "stderr",
     "output_type": "stream",
     "text": [
      "100%|██████████| 3/3 [00:01<00:00,  1.96it/s]"
     ]
    },
    {
     "name": "stdout",
     "output_type": "stream",
     "text": [
      "val Loss: 0.0027 F1-score: 1.0000\n",
      "predict  0  1  2  3  4\n",
      "label                 \n",
      "0        7  0  0  0  0\n",
      "1        0  6  0  0  0\n",
      "2        0  0  5  0  0\n",
      "3        0  0  0  3  0\n",
      "4        0  0  0  0  2\n"
     ]
    },
    {
     "name": "stderr",
     "output_type": "stream",
     "text": [
      "\n"
     ]
    }
   ],
   "source": [
    "for epoch in range(CFG.epochs):\n",
    "    print('Epoch {}/{}'.format(epoch+1, CFG.epochs))\n",
    "    print('-' * 10)\n",
    "\n",
    "    # 每个epoch都有一个训练和验证阶段\n",
    "    for phase in ['train', 'val']:\n",
    "        if phase == 'train':\n",
    "            model.train()  # 设置模型为训练模式\n",
    "            dataloader = train_loader\n",
    "        else:\n",
    "            model.eval()   # 设置模型为评估模式\n",
    "            dataloader = val_loader\n",
    "\n",
    "        running_loss = 0.0\n",
    "        running_corrects = 0\n",
    "        y_true = []\n",
    "        y_pred = []\n",
    "        # 迭代数据\n",
    "        for inputs, labels in tqdm(dataloader):\n",
    "            inputs = inputs.to('cuda:1')\n",
    "            labels = labels.to('cuda:1')\n",
    "\n",
    "            # 零参数梯度\n",
    "            optimizer.zero_grad()\n",
    "            # 前向\n",
    "            # track history if only in train\n",
    "            with torch.set_grad_enabled(phase == 'train'):\n",
    "                outputs = model(inputs)\n",
    "                _, preds = torch.max(outputs.logits, 1)\n",
    "                loss = criterion(outputs.logits, labels)\n",
    "                # 后向+仅在训练阶段进行优化\n",
    "                if phase == 'train':\n",
    "                    loss.backward()\n",
    "                    optimizer.step()\n",
    "            # 统计f1_score\n",
    "            y_true.extend(labels.cpu().numpy().tolist())\n",
    "            y_pred.extend(preds.cpu().numpy().tolist())\n",
    "            # 统计loss\n",
    "            running_loss += loss.item() * inputs.size(0)\n",
    "        # 分别计算5个label的f1_score,然后加权平均[0.1, 0.3, 0.2, 0.1, 0.3]\n",
    "        score = f1_score(y_true, y_pred, average=None)\n",
    "        score = np.average(score, weights=[0.1, 0.3, 0.2, 0.1, 0.3])\n",
    "        # 计算loss\n",
    "        epoch_loss = running_loss / dataset_sizes[phase]\n",
    "        print('{} Loss: {:.4f} F1-score: {:.4f}'.format(\n",
    "            phase, epoch_loss, score))\n",
    "        # 计算混淆矩阵\n",
    "        print(pd.crosstab(pd.Series(y_true), pd.Series(y_pred), rownames=['label'], colnames=['predict']))"
   ]
  },
  {
   "cell_type": "markdown",
   "metadata": {},
   "source": [
    "### 预测测试集"
   ]
  },
  {
   "cell_type": "code",
   "execution_count": 12,
   "metadata": {},
   "outputs": [],
   "source": [
    "class TestDataset(Dataset):\n",
    "    def __init__(self, image_folder, transform=None):\n",
    "        self.image_folder = image_folder\n",
    "        self.transform = transform\n",
    "        self.image_files = [f for f in os.listdir(\n",
    "            image_folder) if f.endswith('.png')]\n",
    "\n",
    "    def __len__(self):\n",
    "        return len(self.image_files)\n",
    "\n",
    "    def __getitem__(self, idx):\n",
    "        img_name = os.path.join(self.image_folder, self.image_files[idx])\n",
    "        image = Image.open(img_name)\n",
    "        if self.transform:\n",
    "            image = self.transform(image)\n",
    "\n",
    "        return image, self.image_files[idx]"
   ]
  },
  {
   "cell_type": "code",
   "execution_count": 13,
   "metadata": {},
   "outputs": [],
   "source": [
    "test_dataset = TestDataset(test_A_image_folder, test_trainsforms)\n",
    "test_loader = DataLoader(test_dataset, batch_size=8, shuffle=False)"
   ]
  },
  {
   "cell_type": "code",
   "execution_count": 14,
   "metadata": {},
   "outputs": [],
   "source": [
    "model.eval()\n",
    "predictions = []\n",
    "file_name = []\n",
    "for images,img_name in tqdm(test_loader):\n",
    "    with torch.no_grad():\n",
    "        images = images.to('cuda:1')  \n",
    "        outputs = model(images)\n",
    "        _, predicted =torch.max(outputs.logits, 1)\n",
    "        predictions.extend(predicted.cpu().numpy())\n",
    "        file_name.extend(list(img_name))"
   ]
  },
  {
   "cell_type": "code",
   "execution_count": 15,
   "metadata": {},
   "outputs": [],
   "source": [
    "csv_file_name = []\n",
    "test_A_csv_file_name = os.listdir(test_A_csv_folder)\n",
    "for file in file_name:\n",
    "    for j in test_A_csv_file_name:\n",
    "        if file[:-4] in j:\n",
    "            csv_file_name.append(j)\n",
    "            break"
   ]
  },
  {
   "cell_type": "code",
   "execution_count": 16,
   "metadata": {},
   "outputs": [],
   "source": [
    "label = [CFG.id2label[i] for i in predictions]"
   ]
  },
  {
   "cell_type": "code",
   "execution_count": 17,
   "metadata": {},
   "outputs": [],
   "source": [
    "results_df = pd.DataFrame({'defectType': label,'fileName': csv_file_name})\n",
    "results_df.to_csv('submission.csv', index=False)"
   ]
  },
  {
   "cell_type": "code",
   "execution_count": null,
   "metadata": {},
   "outputs": [],
   "source": []
  }
 ],
 "metadata": {
  "kernelspec": {
   "display_name": "kaggle",
   "language": "python",
   "name": "python3"
  },
  "language_info": {
   "codemirror_mode": {
    "name": "ipython",
    "version": 3
   },
   "file_extension": ".py",
   "mimetype": "text/x-python",
   "name": "python",
   "nbconvert_exporter": "python",
   "pygments_lexer": "ipython3",
   "version": "3.8.8"
  }
 },
 "nbformat": 4,
 "nbformat_minor": 2
}
